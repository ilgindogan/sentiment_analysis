{
 "cells": [
  {
   "cell_type": "markdown",
   "id": "40a7ebdf-9676-4694-8add-041d288bb09b",
   "metadata": {},
   "source": [
    "### Importing Necessary Packages"
   ]
  },
  {
   "cell_type": "code",
   "execution_count": 25,
   "id": "e6eec73a-86e8-4495-b87c-f04b14494f1f",
   "metadata": {},
   "outputs": [],
   "source": [
    "import pandas as pd\n",
    "import numpy as np\n",
    "from transformers import pipeline,AutoTokenizer,AutoModelForSequenceClassification,TrainingArguments, Trainer\n",
    "import matplotlib.pyplot as plt\n",
    "import seaborn as sns\n",
    "from collections import Counter\n",
    "import torch\n",
    "from wordcloud import WordCloud, STOPWORDS\n",
    "import warnings\n",
    "from sklearn.metrics import classification_report\n",
    "from datasets import Dataset,load_dataset\n",
    "import re"
   ]
  },
  {
   "cell_type": "markdown",
   "id": "e24c3df9-1101-4117-b14f-1c76b75a7101",
   "metadata": {},
   "source": [
    "### Upload dataset"
   ]
  },
  {
   "cell_type": "code",
   "execution_count": 26,
   "id": "9ace8a56-2a1e-4cbc-b4a2-d5c1a81959be",
   "metadata": {},
   "outputs": [],
   "source": [
    "# Original Dataset review\n",
    "original_df_train = pd.read_csv('./train.csv')\n",
    "original_df_test = pd.read_csv('./test.csv')"
   ]
  },
  {
   "cell_type": "code",
   "execution_count": 27,
   "id": "d2a1ac4a-afd8-488b-8e1a-79ea42da7cad",
   "metadata": {},
   "outputs": [
    {
     "data": {
      "text/html": [
       "<div>\n",
       "<style scoped>\n",
       "    .dataframe tbody tr th:only-of-type {\n",
       "        vertical-align: middle;\n",
       "    }\n",
       "\n",
       "    .dataframe tbody tr th {\n",
       "        vertical-align: top;\n",
       "    }\n",
       "\n",
       "    .dataframe thead th {\n",
       "        text-align: right;\n",
       "    }\n",
       "</style>\n",
       "<table border=\"1\" class=\"dataframe\">\n",
       "  <thead>\n",
       "    <tr style=\"text-align: right;\">\n",
       "      <th></th>\n",
       "      <th>2</th>\n",
       "      <th>Stuning even for the non-gamer</th>\n",
       "      <th>This sound track was beautiful! It paints the senery in your mind so well I would recomend it even to people who hate vid. game music! I have played the game Chrono Cross but out of all of the games I have ever played it has the best music! It backs away from crude keyboarding and takes a fresher step with grate guitars and soulful orchestras. It would impress anyone who cares to listen! ^_^</th>\n",
       "    </tr>\n",
       "  </thead>\n",
       "  <tbody>\n",
       "    <tr>\n",
       "      <th>0</th>\n",
       "      <td>2</td>\n",
       "      <td>The best soundtrack ever to anything.</td>\n",
       "      <td>I'm reading a lot of reviews saying that this ...</td>\n",
       "    </tr>\n",
       "    <tr>\n",
       "      <th>1</th>\n",
       "      <td>2</td>\n",
       "      <td>Amazing!</td>\n",
       "      <td>This soundtrack is my favorite music of all ti...</td>\n",
       "    </tr>\n",
       "    <tr>\n",
       "      <th>2</th>\n",
       "      <td>2</td>\n",
       "      <td>Excellent Soundtrack</td>\n",
       "      <td>I truly like this soundtrack and I enjoy video...</td>\n",
       "    </tr>\n",
       "    <tr>\n",
       "      <th>3</th>\n",
       "      <td>2</td>\n",
       "      <td>Remember, Pull Your Jaw Off The Floor After He...</td>\n",
       "      <td>If you've played the game, you know how divine...</td>\n",
       "    </tr>\n",
       "    <tr>\n",
       "      <th>4</th>\n",
       "      <td>2</td>\n",
       "      <td>an absolute masterpiece</td>\n",
       "      <td>I am quite sure any of you actually taking the...</td>\n",
       "    </tr>\n",
       "    <tr>\n",
       "      <th>...</th>\n",
       "      <td>...</td>\n",
       "      <td>...</td>\n",
       "      <td>...</td>\n",
       "    </tr>\n",
       "    <tr>\n",
       "      <th>3599994</th>\n",
       "      <td>1</td>\n",
       "      <td>Don't do it!!</td>\n",
       "      <td>The high chair looks great when it first comes...</td>\n",
       "    </tr>\n",
       "    <tr>\n",
       "      <th>3599995</th>\n",
       "      <td>1</td>\n",
       "      <td>Looks nice, low functionality</td>\n",
       "      <td>I have used this highchair for 2 kids now and ...</td>\n",
       "    </tr>\n",
       "    <tr>\n",
       "      <th>3599996</th>\n",
       "      <td>1</td>\n",
       "      <td>compact, but hard to clean</td>\n",
       "      <td>We have a small house, and really wanted two o...</td>\n",
       "    </tr>\n",
       "    <tr>\n",
       "      <th>3599997</th>\n",
       "      <td>1</td>\n",
       "      <td>what is it saying?</td>\n",
       "      <td>not sure what this book is supposed to be. It ...</td>\n",
       "    </tr>\n",
       "    <tr>\n",
       "      <th>3599998</th>\n",
       "      <td>2</td>\n",
       "      <td>Makes My Blood Run Red-White-And-Blue</td>\n",
       "      <td>I agree that every American should read this b...</td>\n",
       "    </tr>\n",
       "  </tbody>\n",
       "</table>\n",
       "<p>3599999 rows × 3 columns</p>\n",
       "</div>"
      ],
      "text/plain": [
       "         2                     Stuning even for the non-gamer  \\\n",
       "0        2              The best soundtrack ever to anything.   \n",
       "1        2                                           Amazing!   \n",
       "2        2                               Excellent Soundtrack   \n",
       "3        2  Remember, Pull Your Jaw Off The Floor After He...   \n",
       "4        2                            an absolute masterpiece   \n",
       "...     ..                                                ...   \n",
       "3599994  1                                      Don't do it!!   \n",
       "3599995  1                      Looks nice, low functionality   \n",
       "3599996  1                         compact, but hard to clean   \n",
       "3599997  1                                 what is it saying?   \n",
       "3599998  2              Makes My Blood Run Red-White-And-Blue   \n",
       "\n",
       "        This sound track was beautiful! It paints the senery in your mind so well I would recomend it even to people who hate vid. game music! I have played the game Chrono Cross but out of all of the games I have ever played it has the best music! It backs away from crude keyboarding and takes a fresher step with grate guitars and soulful orchestras. It would impress anyone who cares to listen! ^_^  \n",
       "0        I'm reading a lot of reviews saying that this ...                                                                                                                                                                                                                                                                                                                                                          \n",
       "1        This soundtrack is my favorite music of all ti...                                                                                                                                                                                                                                                                                                                                                          \n",
       "2        I truly like this soundtrack and I enjoy video...                                                                                                                                                                                                                                                                                                                                                          \n",
       "3        If you've played the game, you know how divine...                                                                                                                                                                                                                                                                                                                                                          \n",
       "4        I am quite sure any of you actually taking the...                                                                                                                                                                                                                                                                                                                                                          \n",
       "...                                                    ...                                                                                                                                                                                                                                                                                                                                                          \n",
       "3599994  The high chair looks great when it first comes...                                                                                                                                                                                                                                                                                                                                                          \n",
       "3599995  I have used this highchair for 2 kids now and ...                                                                                                                                                                                                                                                                                                                                                          \n",
       "3599996  We have a small house, and really wanted two o...                                                                                                                                                                                                                                                                                                                                                          \n",
       "3599997  not sure what this book is supposed to be. It ...                                                                                                                                                                                                                                                                                                                                                          \n",
       "3599998  I agree that every American should read this b...                                                                                                                                                                                                                                                                                                                                                          \n",
       "\n",
       "[3599999 rows x 3 columns]"
      ]
     },
     "execution_count": 27,
     "metadata": {},
     "output_type": "execute_result"
    }
   ],
   "source": [
    "original_df_train\n"
   ]
  },
  {
   "cell_type": "markdown",
   "id": "b80257c7-7723-499c-b9a2-6240fe475bc9",
   "metadata": {},
   "source": [
    "### Data Preprocessing Step"
   ]
  },
  {
   "cell_type": "code",
   "execution_count": 28,
   "id": "b98fa5ed-3eea-4842-8ea2-beda0521f41d",
   "metadata": {},
   "outputs": [],
   "source": [
    "# The first line has been made into a heading for readability.\n",
    "train_df = pd.read_csv('./train.csv', header=None, names=['labels', 'title', 'text'])\n",
    "test_df = pd.read_csv('./test.csv', header=None, names=['labels', 'title', 'text'])"
   ]
  },
  {
   "cell_type": "code",
   "execution_count": 29,
   "id": "0e68de60-a10b-41cb-9a57-71e87ad0b332",
   "metadata": {},
   "outputs": [
    {
     "data": {
      "text/html": [
       "<div>\n",
       "<style scoped>\n",
       "    .dataframe tbody tr th:only-of-type {\n",
       "        vertical-align: middle;\n",
       "    }\n",
       "\n",
       "    .dataframe tbody tr th {\n",
       "        vertical-align: top;\n",
       "    }\n",
       "\n",
       "    .dataframe thead th {\n",
       "        text-align: right;\n",
       "    }\n",
       "</style>\n",
       "<table border=\"1\" class=\"dataframe\">\n",
       "  <thead>\n",
       "    <tr style=\"text-align: right;\">\n",
       "      <th></th>\n",
       "      <th>labels</th>\n",
       "      <th>title</th>\n",
       "      <th>text</th>\n",
       "    </tr>\n",
       "  </thead>\n",
       "  <tbody>\n",
       "    <tr>\n",
       "      <th>0</th>\n",
       "      <td>2</td>\n",
       "      <td>Stuning even for the non-gamer</td>\n",
       "      <td>This sound track was beautiful! It paints the ...</td>\n",
       "    </tr>\n",
       "    <tr>\n",
       "      <th>1</th>\n",
       "      <td>2</td>\n",
       "      <td>The best soundtrack ever to anything.</td>\n",
       "      <td>I'm reading a lot of reviews saying that this ...</td>\n",
       "    </tr>\n",
       "    <tr>\n",
       "      <th>2</th>\n",
       "      <td>2</td>\n",
       "      <td>Amazing!</td>\n",
       "      <td>This soundtrack is my favorite music of all ti...</td>\n",
       "    </tr>\n",
       "    <tr>\n",
       "      <th>3</th>\n",
       "      <td>2</td>\n",
       "      <td>Excellent Soundtrack</td>\n",
       "      <td>I truly like this soundtrack and I enjoy video...</td>\n",
       "    </tr>\n",
       "    <tr>\n",
       "      <th>4</th>\n",
       "      <td>2</td>\n",
       "      <td>Remember, Pull Your Jaw Off The Floor After He...</td>\n",
       "      <td>If you've played the game, you know how divine...</td>\n",
       "    </tr>\n",
       "    <tr>\n",
       "      <th>...</th>\n",
       "      <td>...</td>\n",
       "      <td>...</td>\n",
       "      <td>...</td>\n",
       "    </tr>\n",
       "    <tr>\n",
       "      <th>3599995</th>\n",
       "      <td>1</td>\n",
       "      <td>Don't do it!!</td>\n",
       "      <td>The high chair looks great when it first comes...</td>\n",
       "    </tr>\n",
       "    <tr>\n",
       "      <th>3599996</th>\n",
       "      <td>1</td>\n",
       "      <td>Looks nice, low functionality</td>\n",
       "      <td>I have used this highchair for 2 kids now and ...</td>\n",
       "    </tr>\n",
       "    <tr>\n",
       "      <th>3599997</th>\n",
       "      <td>1</td>\n",
       "      <td>compact, but hard to clean</td>\n",
       "      <td>We have a small house, and really wanted two o...</td>\n",
       "    </tr>\n",
       "    <tr>\n",
       "      <th>3599998</th>\n",
       "      <td>1</td>\n",
       "      <td>what is it saying?</td>\n",
       "      <td>not sure what this book is supposed to be. It ...</td>\n",
       "    </tr>\n",
       "    <tr>\n",
       "      <th>3599999</th>\n",
       "      <td>2</td>\n",
       "      <td>Makes My Blood Run Red-White-And-Blue</td>\n",
       "      <td>I agree that every American should read this b...</td>\n",
       "    </tr>\n",
       "  </tbody>\n",
       "</table>\n",
       "<p>3600000 rows × 3 columns</p>\n",
       "</div>"
      ],
      "text/plain": [
       "         labels                                              title  \\\n",
       "0             2                     Stuning even for the non-gamer   \n",
       "1             2              The best soundtrack ever to anything.   \n",
       "2             2                                           Amazing!   \n",
       "3             2                               Excellent Soundtrack   \n",
       "4             2  Remember, Pull Your Jaw Off The Floor After He...   \n",
       "...         ...                                                ...   \n",
       "3599995       1                                      Don't do it!!   \n",
       "3599996       1                      Looks nice, low functionality   \n",
       "3599997       1                         compact, but hard to clean   \n",
       "3599998       1                                 what is it saying?   \n",
       "3599999       2              Makes My Blood Run Red-White-And-Blue   \n",
       "\n",
       "                                                      text  \n",
       "0        This sound track was beautiful! It paints the ...  \n",
       "1        I'm reading a lot of reviews saying that this ...  \n",
       "2        This soundtrack is my favorite music of all ti...  \n",
       "3        I truly like this soundtrack and I enjoy video...  \n",
       "4        If you've played the game, you know how divine...  \n",
       "...                                                    ...  \n",
       "3599995  The high chair looks great when it first comes...  \n",
       "3599996  I have used this highchair for 2 kids now and ...  \n",
       "3599997  We have a small house, and really wanted two o...  \n",
       "3599998  not sure what this book is supposed to be. It ...  \n",
       "3599999  I agree that every American should read this b...  \n",
       "\n",
       "[3600000 rows x 3 columns]"
      ]
     },
     "execution_count": 29,
     "metadata": {},
     "output_type": "execute_result"
    }
   ],
   "source": [
    "train_df"
   ]
  },
  {
   "cell_type": "code",
   "execution_count": 30,
   "id": "879e1194-7ac8-4aab-9d99-58b25719f443",
   "metadata": {},
   "outputs": [],
   "source": [
    "train_df = train_df.drop(columns=['title'])\n",
    "test_df = test_df.drop(columns=['title'])"
   ]
  },
  {
   "cell_type": "code",
   "execution_count": 31,
   "id": "7ba66047-f60d-43ba-905f-b84f50947aaf",
   "metadata": {},
   "outputs": [
    {
     "data": {
      "text/html": [
       "<div>\n",
       "<style scoped>\n",
       "    .dataframe tbody tr th:only-of-type {\n",
       "        vertical-align: middle;\n",
       "    }\n",
       "\n",
       "    .dataframe tbody tr th {\n",
       "        vertical-align: top;\n",
       "    }\n",
       "\n",
       "    .dataframe thead th {\n",
       "        text-align: right;\n",
       "    }\n",
       "</style>\n",
       "<table border=\"1\" class=\"dataframe\">\n",
       "  <thead>\n",
       "    <tr style=\"text-align: right;\">\n",
       "      <th></th>\n",
       "      <th>labels</th>\n",
       "      <th>text</th>\n",
       "    </tr>\n",
       "  </thead>\n",
       "  <tbody>\n",
       "    <tr>\n",
       "      <th>0</th>\n",
       "      <td>2</td>\n",
       "      <td>This sound track was beautiful! It paints the ...</td>\n",
       "    </tr>\n",
       "    <tr>\n",
       "      <th>1</th>\n",
       "      <td>2</td>\n",
       "      <td>I'm reading a lot of reviews saying that this ...</td>\n",
       "    </tr>\n",
       "    <tr>\n",
       "      <th>2</th>\n",
       "      <td>2</td>\n",
       "      <td>This soundtrack is my favorite music of all ti...</td>\n",
       "    </tr>\n",
       "    <tr>\n",
       "      <th>3</th>\n",
       "      <td>2</td>\n",
       "      <td>I truly like this soundtrack and I enjoy video...</td>\n",
       "    </tr>\n",
       "    <tr>\n",
       "      <th>4</th>\n",
       "      <td>2</td>\n",
       "      <td>If you've played the game, you know how divine...</td>\n",
       "    </tr>\n",
       "    <tr>\n",
       "      <th>...</th>\n",
       "      <td>...</td>\n",
       "      <td>...</td>\n",
       "    </tr>\n",
       "    <tr>\n",
       "      <th>3599995</th>\n",
       "      <td>1</td>\n",
       "      <td>The high chair looks great when it first comes...</td>\n",
       "    </tr>\n",
       "    <tr>\n",
       "      <th>3599996</th>\n",
       "      <td>1</td>\n",
       "      <td>I have used this highchair for 2 kids now and ...</td>\n",
       "    </tr>\n",
       "    <tr>\n",
       "      <th>3599997</th>\n",
       "      <td>1</td>\n",
       "      <td>We have a small house, and really wanted two o...</td>\n",
       "    </tr>\n",
       "    <tr>\n",
       "      <th>3599998</th>\n",
       "      <td>1</td>\n",
       "      <td>not sure what this book is supposed to be. It ...</td>\n",
       "    </tr>\n",
       "    <tr>\n",
       "      <th>3599999</th>\n",
       "      <td>2</td>\n",
       "      <td>I agree that every American should read this b...</td>\n",
       "    </tr>\n",
       "  </tbody>\n",
       "</table>\n",
       "<p>3600000 rows × 2 columns</p>\n",
       "</div>"
      ],
      "text/plain": [
       "         labels                                               text\n",
       "0             2  This sound track was beautiful! It paints the ...\n",
       "1             2  I'm reading a lot of reviews saying that this ...\n",
       "2             2  This soundtrack is my favorite music of all ti...\n",
       "3             2  I truly like this soundtrack and I enjoy video...\n",
       "4             2  If you've played the game, you know how divine...\n",
       "...         ...                                                ...\n",
       "3599995       1  The high chair looks great when it first comes...\n",
       "3599996       1  I have used this highchair for 2 kids now and ...\n",
       "3599997       1  We have a small house, and really wanted two o...\n",
       "3599998       1  not sure what this book is supposed to be. It ...\n",
       "3599999       2  I agree that every American should read this b...\n",
       "\n",
       "[3600000 rows x 2 columns]"
      ]
     },
     "execution_count": 31,
     "metadata": {},
     "output_type": "execute_result"
    }
   ],
   "source": [
    "train_df\n"
   ]
  },
  {
   "cell_type": "code",
   "execution_count": 32,
   "id": "b33f892e-d922-4c24-86dd-43c5f5a3f6b1",
   "metadata": {},
   "outputs": [],
   "source": [
    "train_df['labels'] = train_df['labels'].map({1: 0, 2: 1})\n",
    "test_df['labels'] = test_df['labels'].map({1: 0, 2: 1})"
   ]
  },
  {
   "cell_type": "code",
   "execution_count": 33,
   "id": "29510ac1-2ef0-46d0-ade1-5c1e9fc33e4d",
   "metadata": {},
   "outputs": [
    {
     "data": {
      "text/html": [
       "<div>\n",
       "<style scoped>\n",
       "    .dataframe tbody tr th:only-of-type {\n",
       "        vertical-align: middle;\n",
       "    }\n",
       "\n",
       "    .dataframe tbody tr th {\n",
       "        vertical-align: top;\n",
       "    }\n",
       "\n",
       "    .dataframe thead th {\n",
       "        text-align: right;\n",
       "    }\n",
       "</style>\n",
       "<table border=\"1\" class=\"dataframe\">\n",
       "  <thead>\n",
       "    <tr style=\"text-align: right;\">\n",
       "      <th></th>\n",
       "      <th>labels</th>\n",
       "      <th>text</th>\n",
       "    </tr>\n",
       "  </thead>\n",
       "  <tbody>\n",
       "    <tr>\n",
       "      <th>0</th>\n",
       "      <td>1</td>\n",
       "      <td>This sound track was beautiful! It paints the ...</td>\n",
       "    </tr>\n",
       "    <tr>\n",
       "      <th>1</th>\n",
       "      <td>1</td>\n",
       "      <td>I'm reading a lot of reviews saying that this ...</td>\n",
       "    </tr>\n",
       "    <tr>\n",
       "      <th>2</th>\n",
       "      <td>1</td>\n",
       "      <td>This soundtrack is my favorite music of all ti...</td>\n",
       "    </tr>\n",
       "    <tr>\n",
       "      <th>3</th>\n",
       "      <td>1</td>\n",
       "      <td>I truly like this soundtrack and I enjoy video...</td>\n",
       "    </tr>\n",
       "    <tr>\n",
       "      <th>4</th>\n",
       "      <td>1</td>\n",
       "      <td>If you've played the game, you know how divine...</td>\n",
       "    </tr>\n",
       "    <tr>\n",
       "      <th>...</th>\n",
       "      <td>...</td>\n",
       "      <td>...</td>\n",
       "    </tr>\n",
       "    <tr>\n",
       "      <th>3599995</th>\n",
       "      <td>0</td>\n",
       "      <td>The high chair looks great when it first comes...</td>\n",
       "    </tr>\n",
       "    <tr>\n",
       "      <th>3599996</th>\n",
       "      <td>0</td>\n",
       "      <td>I have used this highchair for 2 kids now and ...</td>\n",
       "    </tr>\n",
       "    <tr>\n",
       "      <th>3599997</th>\n",
       "      <td>0</td>\n",
       "      <td>We have a small house, and really wanted two o...</td>\n",
       "    </tr>\n",
       "    <tr>\n",
       "      <th>3599998</th>\n",
       "      <td>0</td>\n",
       "      <td>not sure what this book is supposed to be. It ...</td>\n",
       "    </tr>\n",
       "    <tr>\n",
       "      <th>3599999</th>\n",
       "      <td>1</td>\n",
       "      <td>I agree that every American should read this b...</td>\n",
       "    </tr>\n",
       "  </tbody>\n",
       "</table>\n",
       "<p>3600000 rows × 2 columns</p>\n",
       "</div>"
      ],
      "text/plain": [
       "         labels                                               text\n",
       "0             1  This sound track was beautiful! It paints the ...\n",
       "1             1  I'm reading a lot of reviews saying that this ...\n",
       "2             1  This soundtrack is my favorite music of all ti...\n",
       "3             1  I truly like this soundtrack and I enjoy video...\n",
       "4             1  If you've played the game, you know how divine...\n",
       "...         ...                                                ...\n",
       "3599995       0  The high chair looks great when it first comes...\n",
       "3599996       0  I have used this highchair for 2 kids now and ...\n",
       "3599997       0  We have a small house, and really wanted two o...\n",
       "3599998       0  not sure what this book is supposed to be. It ...\n",
       "3599999       1  I agree that every American should read this b...\n",
       "\n",
       "[3600000 rows x 2 columns]"
      ]
     },
     "execution_count": 33,
     "metadata": {},
     "output_type": "execute_result"
    }
   ],
   "source": [
    "train_df"
   ]
  },
  {
   "cell_type": "code",
   "execution_count": 34,
   "id": "c2239b7b-f25e-41a3-b228-564655c62103",
   "metadata": {},
   "outputs": [
    {
     "name": "stdout",
     "output_type": "stream",
     "text": [
      "labels\n",
      "1    500000\n",
      "0    500000\n",
      "Name: count, dtype: int64\n",
      "New train dataset size: 1000000\n",
      "labels\n",
      "1    50000\n",
      "0    50000\n",
      "Name: count, dtype: int64\n",
      "New test dataset size:100000\n"
     ]
    }
   ],
   "source": [
    "negatives_train = train_df[train_df[\"labels\"] == 0]\n",
    "positives_train = train_df[train_df[\"labels\"] == 1]\n",
    "\n",
    "negatives_test = test_df[test_df[\"labels\"] == 0]\n",
    "positives_test = test_df[test_df[\"labels\"] == 1]\n",
    "\n",
    "subset_size_train = 500_000\n",
    "subset_size_test = 50_000\n",
    "neg_samples_train = negatives_train.sample(n=subset_size_train, random_state=42)\n",
    "pos_samples_train = positives_train.sample(n=subset_size_train, random_state=42)\n",
    "\n",
    "neg_samples_test = negatives_test.sample(n=subset_size_test, random_state=42)\n",
    "pos_samples_test = positives_test.sample(n=subset_size_test, random_state=42)\n",
    "\n",
    "# New balanced dataset creation\n",
    "balanced_df_train = pd.concat([neg_samples_train, pos_samples_train]).sample(frac=1, random_state=42)  # Shuffling\n",
    "balanced_df_test = pd.concat([neg_samples_test,pos_samples_test]).sample(frac=1,random_state=42)\n",
    "# Results of creation new dataset\n",
    "print(balanced_df_train[\"labels\"].value_counts())  # 500K negative, 500K positive \n",
    "print(f\"New train dataset size: {len(balanced_df_train)}\")  # 1M totally\n",
    "print(balanced_df_test[\"labels\"].value_counts()) # 50K negative and 50K positive\n",
    "print(f\"New test dataset size:{len(balanced_df_test)}\") # 100K totally"
   ]
  },
  {
   "cell_type": "code",
   "execution_count": 35,
   "id": "128e407e-ac4c-491e-8d55-383372c39698",
   "metadata": {},
   "outputs": [],
   "source": [
    "import re\n",
    "\n",
    "def clean_text(text):\n",
    "    text = re.sub(r\"http\\S+|www\\S+|https\\S+\", \"\", text)  # removing URL\n",
    "    text = re.sub(r\"[^A-Za-z0-9(),!?\\'\\`]\", \" \", text)  # cleaning special character\n",
    "    text = re.sub(r\"\\s{2,}\", \" \", text)  # remove extra space\n",
    "    return text.strip()"
   ]
  },
  {
   "cell_type": "code",
   "execution_count": 36,
   "id": "9cefeb7e-3157-44e8-a977-c2a2a9988515",
   "metadata": {},
   "outputs": [],
   "source": [
    "balanced_df_train['text'] = balanced_df_train['text'].apply(clean_text)\n",
    "balanced_df_test['text'] = balanced_df_test['text'].apply(clean_text)"
   ]
  },
  {
   "cell_type": "code",
   "execution_count": 37,
   "id": "ed6e2498-fde1-434f-8d16-e54c87ec7840",
   "metadata": {},
   "outputs": [
    {
     "name": "stdout",
     "output_type": "stream",
     "text": [
      "labels    0\n",
      "text      0\n",
      "dtype: int64\n",
      "          labels\n",
      "count  1000000.0\n",
      "mean         0.5\n",
      "std          0.5\n",
      "min          0.0\n",
      "25%          0.0\n",
      "50%          0.5\n",
      "75%          1.0\n",
      "max          1.0\n"
     ]
    }
   ],
   "source": [
    "print(balanced_df_train.isnull().sum())  # Checking for null value\n",
    "print(balanced_df_train.describe())"
   ]
  },
  {
   "cell_type": "code",
   "execution_count": 38,
   "id": "4a3dd520-ada0-4fa9-97fc-e5859d99c063",
   "metadata": {},
   "outputs": [],
   "source": [
    "balanced_df_train = balanced_df_train[balanced_df_train['text'].str.strip() != '']\n",
    "balanced_df_test = balanced_df_test[balanced_df_test['text'].str.strip() != '']"
   ]
  },
  {
   "cell_type": "code",
   "execution_count": 39,
   "id": "b091a7be-6514-4c56-b505-68fd5124be21",
   "metadata": {},
   "outputs": [
    {
     "data": {
      "text/plain": [
       "\"Thinking I needed a fast memory card for continuous shooting on my Canon A710 digital camera, I bought the Promax 512MB Sd 150X memory card On day one I took about 30 pictures before I received a memory card error I lost all the pictures and could not retreive tham on my camera or computer I then put in my normal speed Sd card and could still shoot on continuous mode without problems Maybe fast isn't necessary, especially if it isn't reliable\""
      ]
     },
     "execution_count": 39,
     "metadata": {},
     "output_type": "execute_result"
    }
   ],
   "source": [
    "balanced_df_train['text'].iloc[10]"
   ]
  },
  {
   "cell_type": "code",
   "execution_count": 40,
   "id": "d2c6601d-cc27-4932-a385-79dbbba3e644",
   "metadata": {},
   "outputs": [
    {
     "name": "stdout",
     "output_type": "stream",
     "text": [
      "Dataset({\n",
      "    features: ['labels', 'text', '__index_level_0__'],\n",
      "    num_rows: 999998\n",
      "})\n"
     ]
    }
   ],
   "source": [
    "train_dataset = Dataset.from_pandas(balanced_df_train)\n",
    "test_dataset = Dataset.from_pandas(balanced_df_test)\n",
    "\n",
    "print(train_dataset)"
   ]
  },
  {
   "cell_type": "markdown",
   "id": "34cebb05-ee96-4b6f-802c-0151880377d4",
   "metadata": {},
   "source": [
    "### Tokenization and Training"
   ]
  },
  {
   "cell_type": "code",
   "execution_count": 41,
   "id": "77ef5a63-35a8-4129-aa86-89581d1e530f",
   "metadata": {},
   "outputs": [],
   "source": [
    "tokenizer = AutoTokenizer.from_pretrained('distilbert-base-uncased')"
   ]
  },
  {
   "cell_type": "code",
   "execution_count": 42,
   "id": "18fd3182-d704-43c7-9d09-0364c031b5eb",
   "metadata": {},
   "outputs": [
    {
     "name": "stderr",
     "output_type": "stream",
     "text": [
      "Map: 100%|██████████| 999998/999998 [03:04<00:00, 5407.34 examples/s]\n",
      "Map: 100%|██████████| 100000/100000 [00:18<00:00, 5358.44 examples/s]"
     ]
    },
    {
     "name": "stdout",
     "output_type": "stream",
     "text": [
      "Dataset({\n",
      "    features: ['labels', 'text', '__index_level_0__', 'input_ids', 'attention_mask'],\n",
      "    num_rows: 100000\n",
      "})\n"
     ]
    },
    {
     "name": "stderr",
     "output_type": "stream",
     "text": [
      "\n"
     ]
    }
   ],
   "source": [
    "# Tokenization function\n",
    "def tokenize_function(examples):\n",
    "    return tokenizer(examples['text'], padding='max_length', max_length=512, truncation=True,return_tensors=\"pt\")\n",
    "\n",
    "# Tokenizing datasets\n",
    "train_tokenized = train_dataset.map(tokenize_function, batched=True)\n",
    "test_tokenized = test_dataset.map(tokenize_function, batched=True)\n",
    "\n",
    "# Ex: tokenized test format printing\n",
    "print(test_tokenized)"
   ]
  },
  {
   "cell_type": "code",
   "execution_count": 19,
   "id": "cd71c378-458a-493b-8fe4-f5e89988cc11",
   "metadata": {},
   "outputs": [
    {
     "name": "stdout",
     "output_type": "stream",
     "text": [
      "Dataset({\n",
      "    features: ['labels', 'text', '__index_level_0__', 'input_ids', 'attention_mask'],\n",
      "    num_rows: 100000\n",
      "})\n"
     ]
    }
   ],
   "source": [
    "train_tokenized.set_format(type='torch', columns=['input_ids', 'attention_mask', 'labels'])\n",
    "test_tokenized.set_format(type='torch', columns=['input_ids', 'attention_mask', 'labels'])\n",
    "\n",
    "# Ex: test tokenized with torch formatting\n",
    "print(test_tokenized)"
   ]
  },
  {
   "cell_type": "markdown",
   "id": "4ff17695-f5e3-49a9-b6e7-606db3644d6b",
   "metadata": {},
   "source": [
    "#### Uploading distilbert base uncased model for training"
   ]
  },
  {
   "cell_type": "code",
   "execution_count": 20,
   "id": "d315e7c0-21c4-4ccd-afda-80dcf37c14ee",
   "metadata": {},
   "outputs": [
    {
     "name": "stderr",
     "output_type": "stream",
     "text": [
      "Some weights of DistilBertForSequenceClassification were not initialized from the model checkpoint at distilbert-base-uncased and are newly initialized: ['classifier.bias', 'classifier.weight', 'pre_classifier.bias', 'pre_classifier.weight']\n",
      "You should probably TRAIN this model on a down-stream task to be able to use it for predictions and inference.\n"
     ]
    }
   ],
   "source": [
    "\n",
    "#model = AutoModelForSequenceClassification.from_pretrained('bert-base-uncased',torch_dtype=torch.float16, attn_implementation=\"sdpa\" ,num_labels=2)\n",
    "\n",
    "#import torch\n",
    "\n",
    "model = AutoModelForSequenceClassification.from_pretrained(\n",
    "    \"distilbert-base-uncased\", \n",
    "    torch_dtype=torch.bfloat16,  # FP16 instead of FP32\n",
    "    attn_implementation=\"sdpa\",  # SDPA instead of \"eager\"\n",
    "    num_labels=2\n",
    ").to(\"cuda\")\n",
    "\n",
    "#model = torch.compile(model)"
   ]
  },
  {
   "cell_type": "code",
   "execution_count": null,
   "id": "d06b2920-ec85-46d9-8876-51e1010ca355",
   "metadata": {},
   "outputs": [],
   "source": [
    "import tensorflow as tf\n",
    "gpus = tf.config.list_physical_devices('GPU')\n",
    "for gpu in gpus: # so tf does not map all gpu space\n",
    "\ttf.config.experimental.set_memory_growth(gpu, True)"
   ]
  },
  {
   "cell_type": "code",
   "execution_count": null,
   "id": "6237ad8b-848d-43b6-b1b8-db936ecc1aaf",
   "metadata": {},
   "outputs": [],
   "source": [
    "from transformers import Trainer, TrainingArguments"
   ]
  },
  {
   "cell_type": "code",
   "execution_count": null,
   "id": "cfed6759-d860-4224-832b-c2654e99702f",
   "metadata": {},
   "outputs": [],
   "source": [
    "with torch.no_grad():\n",
    "    torch.cuda.empty_cache()"
   ]
  },
  {
   "cell_type": "code",
   "execution_count": null,
   "id": "cb57e9f2-c177-4728-b8f0-a553e0526ba0",
   "metadata": {},
   "outputs": [],
   "source": [
    "training_args = TrainingArguments(\n",
    "    output_dir=\"./results\",\n",
    "    evaluation_strategy=\"epoch\",  # Epoch evalution strategy instead of steps\n",
    "    #eval_steps=50,\n",
    "    learning_rate=2e-5, # 1e-5, 2e-6\n",
    "    per_device_train_batch_size=64, # 256,512 \n",
    "    per_device_eval_batch_size=64,\n",
    "    num_train_epochs=3,\n",
    "    #weight_decay=0.0001, # 0.01 # decreasing training and eval loss accuracy\n",
    "    report_to=\"none\",\n",
    "    bf16=True,\n",
    "    fp16=False,\n",
    "    logging_steps=200,\n",
    "    gradient_accumulation_steps=4, # simulation of 64 x 4 batch size \n",
    "    save_total_limit=1,\n",
    "    save_strategy=\"epoch\",\n",
    "    load_best_model_at_end=True,\n",
    "    metric_for_best_model=\"eval_loss\",\n",
    "    #fp16_opt_level=\"O2\",\n",
    ")\n",
    "\n",
    "# Creating of trainer object\n",
    "trainer = Trainer(\n",
    "    model=model,\n",
    "    args=training_args,\n",
    "    train_dataset=train_tokenized,\n",
    "    eval_dataset=test_tokenized,\n",
    "    tokenizer=tokenizer,\n",
    ")\n",
    "\n",
    "# Model Training\n",
    "trainer.train()"
   ]
  },
  {
   "cell_type": "code",
   "execution_count": null,
   "id": "953af031-147f-49a6-8a7c-4dd414adfc7e",
   "metadata": {},
   "outputs": [],
   "source": [
    "metrics = trainer.evaluate()\n",
    "print(metrics)"
   ]
  },
  {
   "cell_type": "code",
   "execution_count": null,
   "id": "05d431c1-b122-43c5-8b7f-c5abc923fa40",
   "metadata": {},
   "outputs": [],
   "source": [
    "print(train_tokenized[0])"
   ]
  },
  {
   "cell_type": "code",
   "execution_count": null,
   "id": "a799f1ee-2c77-450c-83f4-0279f0ea5910",
   "metadata": {},
   "outputs": [],
   "source": [
    "#model.save_pretrained(\"./bert-finetuned-amazon-reviews\")\n",
    "#tokenizer.save_pretrained(\"./bert-finetuned-amazon-reviews\")\n",
    "trainer.save_model(\"./bert-finetuned-amazon-reviews_v4\")\n",
    "tokenizer.save_pretrained(\"./bert-finetuned-amazon-reviews_v4\")"
   ]
  },
  {
   "cell_type": "code",
   "execution_count": 21,
   "id": "86ca2c70-66ff-4473-b61c-1d9f54ee662b",
   "metadata": {},
   "outputs": [],
   "source": [
    "\n",
    "model_path = \"./bert-finetuned-amazon-reviews_v4\"\n",
    "\n",
    "# Upload Model\n",
    "model = AutoModelForSequenceClassification.from_pretrained(model_path).to(\"cuda\")\n",
    "\n",
    "# Upload Tokenizer\n",
    "tokenizer = AutoTokenizer.from_pretrained(model_path)\n",
    "\n"
   ]
  },
  {
   "cell_type": "markdown",
   "id": "c195d0f1-3649-4f24-a680-b8db3c3e3cee",
   "metadata": {},
   "source": [
    "### Calculation of Metrics"
   ]
  },
  {
   "cell_type": "code",
   "execution_count": 22,
   "id": "a9cd6f1b-425e-49d5-97a3-96234769c237",
   "metadata": {},
   "outputs": [
    {
     "name": "stderr",
     "output_type": "stream",
     "text": [
      "Prediction Progress: 100%|██████████| 782/782 [09:59<00:00,  1.30batch/s]\n"
     ]
    }
   ],
   "source": [
    "from torch.utils.data import DataLoader\n",
    "from datasets import Dataset\n",
    "import numpy as np\n",
    "from tqdm import tqdm\n",
    "#test_tokenized = test_tokenized.rename_columns({\"label\": \"labels\"})\n",
    "testing_dataloader = DataLoader(test_tokenized, batch_size=128, shuffle=False)\n",
    "\n",
    "model.eval()\n",
    "preds = []\n",
    "labels = []\n",
    "\n",
    "with torch.no_grad():\n",
    "    for batch in tqdm(testing_dataloader,desc=\"Prediction Progress\",unit= \"batch\"):\n",
    "        inputs = {k:v.to(\"cuda\") for k,v in batch.items() if k != \"labels\"}\n",
    "        outputs = model(**inputs)\n",
    "        logits = outputs.logits\n",
    "        predictions = torch.argmax(logits,dim=-1).cpu().numpy()\n",
    "\n",
    "        preds.extend(predictions)\n",
    "        labels.extend(batch[\"labels\"].cpu().numpy())\n",
    "\n",
    "preds = np.array(preds)\n",
    "labels = np.array(labels)"
   ]
  },
  {
   "cell_type": "code",
   "execution_count": 24,
   "id": "6ca19beb-4c1a-4578-b0b8-cb11e9f189d9",
   "metadata": {},
   "outputs": [
    {
     "name": "stdout",
     "output_type": "stream",
     "text": [
      "Accuracy: 0.9205\n",
      "Precision: 0.9218\n",
      "Recall: 0.9190\n",
      "F1 Score: 0.9204\n"
     ]
    },
    {
     "data": {
      "image/png": "[encoded data removed]",
      "text/plain": [
       "<Figure size 600x500 with 2 Axes>"
      ]
     },
     "metadata": {},
     "output_type": "display_data"
    },
    {
     "data": {
      "image/png": "[encoded data removed]",
      "text/plain": [
       "<Figure size 800x600 with 1 Axes>"
      ]
     },
     "metadata": {},
     "output_type": "display_data"
    }
   ],
   "source": [
    "from sklearn.metrics import accuracy_score, precision_recall_fscore_support, confusion_matrix\n",
    "import seaborn as sns\n",
    "# Accuracy \n",
    "accuracy = accuracy_score(labels, preds)\n",
    "\n",
    "# Precision, Recall, F1-score(average=\"binary\" for 2 class )\n",
    "precision, recall, f1, _ = precision_recall_fscore_support(labels, preds, average=\"binary\")\n",
    "\n",
    "# Confusion Matrix \n",
    "conf_matrix = confusion_matrix(labels, preds)\n",
    "\n",
    "# Results\n",
    "print(f\"Accuracy: {accuracy:.4f}\")\n",
    "print(f\"Precision: {precision:.4f}\")\n",
    "print(f\"Recall: {recall:.4f}\")\n",
    "print(f\"F1 Score: {f1:.4f}\")\n",
    "\n",
    "# 📌 **Confusion Matrix Visualization**\n",
    "plt.figure(figsize=(6,5))\n",
    "sns.heatmap(conf_matrix, annot=True, fmt='d', cmap=\"Blues\", xticklabels=[\"Negative\", \"Positive\"], yticklabels=[\"Negative\", \"Positive\"])\n",
    "plt.xlabel(\"Predicted Label\")\n",
    "plt.ylabel(\"True Label\")\n",
    "plt.title(\"Confusion Matrix\")\n",
    "plt.show()\n",
    "\n",
    "# 📌 **Precision - Recall - F1 Score Bar Chart**\n",
    "#metrics = {\"Accuracy\": accuracy, \"Precision\": precision, \"Recall\": recall, \"F1 Score\": f1}\n",
    "metrics = {\n",
    "    \"Accuracy\" : accuracy,\n",
    "    \"Precision\": precision,\n",
    "    \"Recall\"   : recall,\n",
    "    \"F1-Score\" : f1\n",
    "}\n",
    "\n",
    "# Dinamik y-ekseni aralığı: en düşük değerin hemen altından en yüksek değerin biraz üstüne\n",
    "values = list(metrics.values())\n",
    "min_val, max_val = min(values), max(values)\n",
    "margin = 0.01  # %5 marjin\n",
    "ymin = max(min_val - margin, 0)\n",
    "ymax = min(max_val + margin, 1.0)\n",
    "\n",
    "# Renk paleti (4 farklı renk)\n",
    "colors = [\"#1f77b4\", \"#ff7f0e\", \"#2ca02c\", \"#d62728\"]\n",
    "\n",
    "plt.figure(figsize=(8,6))\n",
    "bars = plt.bar(metrics.keys(), metrics.values(), color=colors)\n",
    "plt.ylim(ymin, ymax)\n",
    "plt.ylabel(\"Score\")\n",
    "plt.title(\"Classification Metrics\")\n",
    "\n",
    "# Her bar'ın tepesine değer ekleyelim\n",
    "for bar in bars:\n",
    "    height = bar.get_height()\n",
    "    plt.text(\n",
    "        bar.get_x() + bar.get_width()/2,\n",
    "        height + 0.001,\n",
    "        f\"{height:.2f}\",\n",
    "        ha=\"center\",\n",
    "        va=\"bottom\"\n",
    "    )\n",
    "plt.show()\n"
   ]
  },
  {
   "cell_type": "markdown",
   "id": "9f0ea986-94e8-408a-8c43-78e43a9d924c",
   "metadata": {},
   "source": [
    "### Manuel Testing "
   ]
  },
  {
   "cell_type": "code",
   "execution_count": null,
   "id": "c93ffe5d-fe2b-4234-96fb-6c007a2fc0dc",
   "metadata": {},
   "outputs": [],
   "source": [
    "test_sentence = [\"ı am happy to share this notebook\"]\n",
    "inputs = tokenizer(test_sentence, padding=True, truncation=True, return_tensors=\"pt\", max_length=512).to(\"cuda\")\n",
    "with torch.no_grad():\n",
    "    output_of_manuel = model(**inputs)\n",
    "\n",
    "predictions_of_manuel = torch.argmax(output_of_manuel.logits,dim=-1)\n",
    "\n",
    "for sentence,prediction_of_manuel in zip(test_sentence,predictions_of_manuel):\n",
    "    sentiment = \"Positive\" if prediction_of_manuel.item() == 1 else \"Negative\"\n",
    "    print(f\"Sentence: '{sentence}' => Sentiment: {sentiment}\")"
   ]
  },
  {
   "cell_type": "code",
   "execution_count": null,
   "id": "9a48186a-33a2-42e6-9f31-d6ace4547061",
   "metadata": {},
   "outputs": [],
   "source": []
  }
 ],
 "metadata": {
  "kernelspec": {
   "display_name": "ilgin",
   "language": "python",
   "name": "ilgin"
  },
  "language_info": {
   "codemirror_mode": {
    "name": "ipython",
    "version": 3
   },
   "file_extension": ".py",
   "mimetype": "text/x-python",
   "name": "python",
   "nbconvert_exporter": "python",
   "pygments_lexer": "ipython3",
   "version": "3.10.16"
  }
 },
 "nbformat": 4,
 "nbformat_minor": 5
}
