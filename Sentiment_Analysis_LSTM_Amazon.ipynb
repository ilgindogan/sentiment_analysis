{
 "cells": [
  {
   "cell_type": "markdown",
   "id": "40a7ebdf-9676-4694-8add-041d288bb09b",
   "metadata": {},
   "source": [
    "### Importing Necessary Packages"
   ]
  },
  {
   "cell_type": "code",
   "execution_count": 2,
   "id": "e6eec73a-86e8-4495-b87c-f04b14494f1f",
   "metadata": {},
   "outputs": [
    {
     "name": "stderr",
     "output_type": "stream",
     "text": [
      "2025-05-22 20:48:54.616648: I tensorflow/core/util/port.cc:153] oneDNN custom operations are on. You may see slightly different numerical results due to floating-point round-off errors from different computation orders. To turn them off, set the environment variable `TF_ENABLE_ONEDNN_OPTS=0`.\n",
      "2025-05-22 20:48:54.630864: E external/local_xla/xla/stream_executor/cuda/cuda_fft.cc:467] Unable to register cuFFT factory: Attempting to register factory for plugin cuFFT when one has already been registered\n",
      "WARNING: All log messages before absl::InitializeLog() is called are written to STDERR\n",
      "E0000 00:00:1747936134.648065 1814995 cuda_dnn.cc:8579] Unable to register cuDNN factory: Attempting to register factory for plugin cuDNN when one has already been registered\n",
      "E0000 00:00:1747936134.653292 1814995 cuda_blas.cc:1407] Unable to register cuBLAS factory: Attempting to register factory for plugin cuBLAS when one has already been registered\n",
      "W0000 00:00:1747936134.666214 1814995 computation_placer.cc:177] computation placer already registered. Please check linkage and avoid linking the same target more than once.\n",
      "W0000 00:00:1747936134.666233 1814995 computation_placer.cc:177] computation placer already registered. Please check linkage and avoid linking the same target more than once.\n",
      "W0000 00:00:1747936134.666236 1814995 computation_placer.cc:177] computation placer already registered. Please check linkage and avoid linking the same target more than once.\n",
      "W0000 00:00:1747936134.666238 1814995 computation_placer.cc:177] computation placer already registered. Please check linkage and avoid linking the same target more than once.\n",
      "2025-05-22 20:48:54.670258: I tensorflow/core/platform/cpu_feature_guard.cc:210] This TensorFlow binary is optimized to use available CPU instructions in performance-critical operations.\n",
      "To enable the following instructions: AVX2 AVX512F AVX512_VNNI FMA, in other operations, rebuild TensorFlow with the appropriate compiler flags.\n"
     ]
    }
   ],
   "source": [
    "import pandas as pd\n",
    "import numpy as np\n",
    "from tensorflow.keras.preprocessing.text import Tokenizer\n",
    "import tensorflow as tf\n",
    "from tensorflow.keras.preprocessing.sequence import pad_sequences\n",
    "\n",
    "import matplotlib.pyplot as plt\n",
    "import seaborn as sns\n",
    "import torch\n",
    "import torch.nn as nn\n",
    "import torch.optim as optim\n",
    "from torch.utils.data import TensorDataset, DataLoader\n",
    "from tqdm import tqdm\n",
    "import time\n",
    "import warnings\n",
    "from sklearn.metrics import classification_report\n",
    "\n",
    "import re"
   ]
  },
  {
   "cell_type": "markdown",
   "id": "e24c3df9-1101-4117-b14f-1c76b75a7101",
   "metadata": {},
   "source": [
    "### Upload dataset"
   ]
  },
  {
   "cell_type": "code",
   "execution_count": 3,
   "id": "9ace8a56-2a1e-4cbc-b4a2-d5c1a81959be",
   "metadata": {},
   "outputs": [],
   "source": [
    "# Original Dataset review\n",
    "original_df_train = pd.read_csv('./train.csv')\n",
    "original_dt_test = pd.read_csv('./test.csv')"
   ]
  },
  {
   "cell_type": "code",
   "execution_count": 4,
   "id": "d2a1ac4a-afd8-488b-8e1a-79ea42da7cad",
   "metadata": {},
   "outputs": [
    {
     "data": {
      "text/html": [
       "<div>\n",
       "<style scoped>\n",
       "    .dataframe tbody tr th:only-of-type {\n",
       "        vertical-align: middle;\n",
       "    }\n",
       "\n",
       "    .dataframe tbody tr th {\n",
       "        vertical-align: top;\n",
       "    }\n",
       "\n",
       "    .dataframe thead th {\n",
       "        text-align: right;\n",
       "    }\n",
       "</style>\n",
       "<table border=\"1\" class=\"dataframe\">\n",
       "  <thead>\n",
       "    <tr style=\"text-align: right;\">\n",
       "      <th></th>\n",
       "      <th>2</th>\n",
       "      <th>Stuning even for the non-gamer</th>\n",
       "      <th>This sound track was beautiful! It paints the senery in your mind so well I would recomend it even to people who hate vid. game music! I have played the game Chrono Cross but out of all of the games I have ever played it has the best music! It backs away from crude keyboarding and takes a fresher step with grate guitars and soulful orchestras. It would impress anyone who cares to listen! ^_^</th>\n",
       "    </tr>\n",
       "  </thead>\n",
       "  <tbody>\n",
       "    <tr>\n",
       "      <th>0</th>\n",
       "      <td>2</td>\n",
       "      <td>The best soundtrack ever to anything.</td>\n",
       "      <td>I'm reading a lot of reviews saying that this ...</td>\n",
       "    </tr>\n",
       "    <tr>\n",
       "      <th>1</th>\n",
       "      <td>2</td>\n",
       "      <td>Amazing!</td>\n",
       "      <td>This soundtrack is my favorite music of all ti...</td>\n",
       "    </tr>\n",
       "    <tr>\n",
       "      <th>2</th>\n",
       "      <td>2</td>\n",
       "      <td>Excellent Soundtrack</td>\n",
       "      <td>I truly like this soundtrack and I enjoy video...</td>\n",
       "    </tr>\n",
       "    <tr>\n",
       "      <th>3</th>\n",
       "      <td>2</td>\n",
       "      <td>Remember, Pull Your Jaw Off The Floor After He...</td>\n",
       "      <td>If you've played the game, you know how divine...</td>\n",
       "    </tr>\n",
       "    <tr>\n",
       "      <th>4</th>\n",
       "      <td>2</td>\n",
       "      <td>an absolute masterpiece</td>\n",
       "      <td>I am quite sure any of you actually taking the...</td>\n",
       "    </tr>\n",
       "    <tr>\n",
       "      <th>...</th>\n",
       "      <td>...</td>\n",
       "      <td>...</td>\n",
       "      <td>...</td>\n",
       "    </tr>\n",
       "    <tr>\n",
       "      <th>3599994</th>\n",
       "      <td>1</td>\n",
       "      <td>Don't do it!!</td>\n",
       "      <td>The high chair looks great when it first comes...</td>\n",
       "    </tr>\n",
       "    <tr>\n",
       "      <th>3599995</th>\n",
       "      <td>1</td>\n",
       "      <td>Looks nice, low functionality</td>\n",
       "      <td>I have used this highchair for 2 kids now and ...</td>\n",
       "    </tr>\n",
       "    <tr>\n",
       "      <th>3599996</th>\n",
       "      <td>1</td>\n",
       "      <td>compact, but hard to clean</td>\n",
       "      <td>We have a small house, and really wanted two o...</td>\n",
       "    </tr>\n",
       "    <tr>\n",
       "      <th>3599997</th>\n",
       "      <td>1</td>\n",
       "      <td>what is it saying?</td>\n",
       "      <td>not sure what this book is supposed to be. It ...</td>\n",
       "    </tr>\n",
       "    <tr>\n",
       "      <th>3599998</th>\n",
       "      <td>2</td>\n",
       "      <td>Makes My Blood Run Red-White-And-Blue</td>\n",
       "      <td>I agree that every American should read this b...</td>\n",
       "    </tr>\n",
       "  </tbody>\n",
       "</table>\n",
       "<p>3599999 rows × 3 columns</p>\n",
       "</div>"
      ],
      "text/plain": [
       "         2                     Stuning even for the non-gamer  \\\n",
       "0        2              The best soundtrack ever to anything.   \n",
       "1        2                                           Amazing!   \n",
       "2        2                               Excellent Soundtrack   \n",
       "3        2  Remember, Pull Your Jaw Off The Floor After He...   \n",
       "4        2                            an absolute masterpiece   \n",
       "...     ..                                                ...   \n",
       "3599994  1                                      Don't do it!!   \n",
       "3599995  1                      Looks nice, low functionality   \n",
       "3599996  1                         compact, but hard to clean   \n",
       "3599997  1                                 what is it saying?   \n",
       "3599998  2              Makes My Blood Run Red-White-And-Blue   \n",
       "\n",
       "        This sound track was beautiful! It paints the senery in your mind so well I would recomend it even to people who hate vid. game music! I have played the game Chrono Cross but out of all of the games I have ever played it has the best music! It backs away from crude keyboarding and takes a fresher step with grate guitars and soulful orchestras. It would impress anyone who cares to listen! ^_^  \n",
       "0        I'm reading a lot of reviews saying that this ...                                                                                                                                                                                                                                                                                                                                                          \n",
       "1        This soundtrack is my favorite music of all ti...                                                                                                                                                                                                                                                                                                                                                          \n",
       "2        I truly like this soundtrack and I enjoy video...                                                                                                                                                                                                                                                                                                                                                          \n",
       "3        If you've played the game, you know how divine...                                                                                                                                                                                                                                                                                                                                                          \n",
       "4        I am quite sure any of you actually taking the...                                                                                                                                                                                                                                                                                                                                                          \n",
       "...                                                    ...                                                                                                                                                                                                                                                                                                                                                          \n",
       "3599994  The high chair looks great when it first comes...                                                                                                                                                                                                                                                                                                                                                          \n",
       "3599995  I have used this highchair for 2 kids now and ...                                                                                                                                                                                                                                                                                                                                                          \n",
       "3599996  We have a small house, and really wanted two o...                                                                                                                                                                                                                                                                                                                                                          \n",
       "3599997  not sure what this book is supposed to be. It ...                                                                                                                                                                                                                                                                                                                                                          \n",
       "3599998  I agree that every American should read this b...                                                                                                                                                                                                                                                                                                                                                          \n",
       "\n",
       "[3599999 rows x 3 columns]"
      ]
     },
     "execution_count": 4,
     "metadata": {},
     "output_type": "execute_result"
    }
   ],
   "source": [
    "original_df_train\n"
   ]
  },
  {
   "cell_type": "markdown",
   "id": "b80257c7-7723-499c-b9a2-6240fe475bc9",
   "metadata": {},
   "source": [
    "### Data Preprocessing Step"
   ]
  },
  {
   "cell_type": "code",
   "execution_count": 7,
   "id": "b98fa5ed-3eea-4842-8ea2-beda0521f41d",
   "metadata": {},
   "outputs": [],
   "source": [
    "# The first line has been made into a heading for readability.\n",
    "train_df = pd.read_csv('./train.csv', header=None, names=['labels', 'title', 'text'])\n",
    "test_df = pd.read_csv('./test.csv', header=None, names=['labels', 'title', 'text'])"
   ]
  },
  {
   "cell_type": "code",
   "execution_count": 8,
   "id": "0e68de60-a10b-41cb-9a57-71e87ad0b332",
   "metadata": {},
   "outputs": [
    {
     "data": {
      "text/html": [
       "<div>\n",
       "<style scoped>\n",
       "    .dataframe tbody tr th:only-of-type {\n",
       "        vertical-align: middle;\n",
       "    }\n",
       "\n",
       "    .dataframe tbody tr th {\n",
       "        vertical-align: top;\n",
       "    }\n",
       "\n",
       "    .dataframe thead th {\n",
       "        text-align: right;\n",
       "    }\n",
       "</style>\n",
       "<table border=\"1\" class=\"dataframe\">\n",
       "  <thead>\n",
       "    <tr style=\"text-align: right;\">\n",
       "      <th></th>\n",
       "      <th>labels</th>\n",
       "      <th>title</th>\n",
       "      <th>text</th>\n",
       "    </tr>\n",
       "  </thead>\n",
       "  <tbody>\n",
       "    <tr>\n",
       "      <th>0</th>\n",
       "      <td>2</td>\n",
       "      <td>Stuning even for the non-gamer</td>\n",
       "      <td>This sound track was beautiful! It paints the ...</td>\n",
       "    </tr>\n",
       "    <tr>\n",
       "      <th>1</th>\n",
       "      <td>2</td>\n",
       "      <td>The best soundtrack ever to anything.</td>\n",
       "      <td>I'm reading a lot of reviews saying that this ...</td>\n",
       "    </tr>\n",
       "    <tr>\n",
       "      <th>2</th>\n",
       "      <td>2</td>\n",
       "      <td>Amazing!</td>\n",
       "      <td>This soundtrack is my favorite music of all ti...</td>\n",
       "    </tr>\n",
       "    <tr>\n",
       "      <th>3</th>\n",
       "      <td>2</td>\n",
       "      <td>Excellent Soundtrack</td>\n",
       "      <td>I truly like this soundtrack and I enjoy video...</td>\n",
       "    </tr>\n",
       "    <tr>\n",
       "      <th>4</th>\n",
       "      <td>2</td>\n",
       "      <td>Remember, Pull Your Jaw Off The Floor After He...</td>\n",
       "      <td>If you've played the game, you know how divine...</td>\n",
       "    </tr>\n",
       "    <tr>\n",
       "      <th>...</th>\n",
       "      <td>...</td>\n",
       "      <td>...</td>\n",
       "      <td>...</td>\n",
       "    </tr>\n",
       "    <tr>\n",
       "      <th>3599995</th>\n",
       "      <td>1</td>\n",
       "      <td>Don't do it!!</td>\n",
       "      <td>The high chair looks great when it first comes...</td>\n",
       "    </tr>\n",
       "    <tr>\n",
       "      <th>3599996</th>\n",
       "      <td>1</td>\n",
       "      <td>Looks nice, low functionality</td>\n",
       "      <td>I have used this highchair for 2 kids now and ...</td>\n",
       "    </tr>\n",
       "    <tr>\n",
       "      <th>3599997</th>\n",
       "      <td>1</td>\n",
       "      <td>compact, but hard to clean</td>\n",
       "      <td>We have a small house, and really wanted two o...</td>\n",
       "    </tr>\n",
       "    <tr>\n",
       "      <th>3599998</th>\n",
       "      <td>1</td>\n",
       "      <td>what is it saying?</td>\n",
       "      <td>not sure what this book is supposed to be. It ...</td>\n",
       "    </tr>\n",
       "    <tr>\n",
       "      <th>3599999</th>\n",
       "      <td>2</td>\n",
       "      <td>Makes My Blood Run Red-White-And-Blue</td>\n",
       "      <td>I agree that every American should read this b...</td>\n",
       "    </tr>\n",
       "  </tbody>\n",
       "</table>\n",
       "<p>3600000 rows × 3 columns</p>\n",
       "</div>"
      ],
      "text/plain": [
       "         labels                                              title  \\\n",
       "0             2                     Stuning even for the non-gamer   \n",
       "1             2              The best soundtrack ever to anything.   \n",
       "2             2                                           Amazing!   \n",
       "3             2                               Excellent Soundtrack   \n",
       "4             2  Remember, Pull Your Jaw Off The Floor After He...   \n",
       "...         ...                                                ...   \n",
       "3599995       1                                      Don't do it!!   \n",
       "3599996       1                      Looks nice, low functionality   \n",
       "3599997       1                         compact, but hard to clean   \n",
       "3599998       1                                 what is it saying?   \n",
       "3599999       2              Makes My Blood Run Red-White-And-Blue   \n",
       "\n",
       "                                                      text  \n",
       "0        This sound track was beautiful! It paints the ...  \n",
       "1        I'm reading a lot of reviews saying that this ...  \n",
       "2        This soundtrack is my favorite music of all ti...  \n",
       "3        I truly like this soundtrack and I enjoy video...  \n",
       "4        If you've played the game, you know how divine...  \n",
       "...                                                    ...  \n",
       "3599995  The high chair looks great when it first comes...  \n",
       "3599996  I have used this highchair for 2 kids now and ...  \n",
       "3599997  We have a small house, and really wanted two o...  \n",
       "3599998  not sure what this book is supposed to be. It ...  \n",
       "3599999  I agree that every American should read this b...  \n",
       "\n",
       "[3600000 rows x 3 columns]"
      ]
     },
     "execution_count": 8,
     "metadata": {},
     "output_type": "execute_result"
    }
   ],
   "source": [
    "train_df"
   ]
  },
  {
   "cell_type": "code",
   "execution_count": 9,
   "id": "b33f892e-d922-4c24-86dd-43c5f5a3f6b1",
   "metadata": {},
   "outputs": [],
   "source": [
    "train_df = train_df.drop(columns=['title'])\n",
    "test_df = test_df.drop(columns=['title'])"
   ]
  },
  {
   "cell_type": "code",
   "execution_count": 10,
   "id": "29510ac1-2ef0-46d0-ade1-5c1e9fc33e4d",
   "metadata": {},
   "outputs": [
    {
     "data": {
      "text/html": [
       "<div>\n",
       "<style scoped>\n",
       "    .dataframe tbody tr th:only-of-type {\n",
       "        vertical-align: middle;\n",
       "    }\n",
       "\n",
       "    .dataframe tbody tr th {\n",
       "        vertical-align: top;\n",
       "    }\n",
       "\n",
       "    .dataframe thead th {\n",
       "        text-align: right;\n",
       "    }\n",
       "</style>\n",
       "<table border=\"1\" class=\"dataframe\">\n",
       "  <thead>\n",
       "    <tr style=\"text-align: right;\">\n",
       "      <th></th>\n",
       "      <th>labels</th>\n",
       "      <th>text</th>\n",
       "    </tr>\n",
       "  </thead>\n",
       "  <tbody>\n",
       "    <tr>\n",
       "      <th>0</th>\n",
       "      <td>2</td>\n",
       "      <td>This sound track was beautiful! It paints the ...</td>\n",
       "    </tr>\n",
       "    <tr>\n",
       "      <th>1</th>\n",
       "      <td>2</td>\n",
       "      <td>I'm reading a lot of reviews saying that this ...</td>\n",
       "    </tr>\n",
       "    <tr>\n",
       "      <th>2</th>\n",
       "      <td>2</td>\n",
       "      <td>This soundtrack is my favorite music of all ti...</td>\n",
       "    </tr>\n",
       "    <tr>\n",
       "      <th>3</th>\n",
       "      <td>2</td>\n",
       "      <td>I truly like this soundtrack and I enjoy video...</td>\n",
       "    </tr>\n",
       "    <tr>\n",
       "      <th>4</th>\n",
       "      <td>2</td>\n",
       "      <td>If you've played the game, you know how divine...</td>\n",
       "    </tr>\n",
       "    <tr>\n",
       "      <th>...</th>\n",
       "      <td>...</td>\n",
       "      <td>...</td>\n",
       "    </tr>\n",
       "    <tr>\n",
       "      <th>3599995</th>\n",
       "      <td>1</td>\n",
       "      <td>The high chair looks great when it first comes...</td>\n",
       "    </tr>\n",
       "    <tr>\n",
       "      <th>3599996</th>\n",
       "      <td>1</td>\n",
       "      <td>I have used this highchair for 2 kids now and ...</td>\n",
       "    </tr>\n",
       "    <tr>\n",
       "      <th>3599997</th>\n",
       "      <td>1</td>\n",
       "      <td>We have a small house, and really wanted two o...</td>\n",
       "    </tr>\n",
       "    <tr>\n",
       "      <th>3599998</th>\n",
       "      <td>1</td>\n",
       "      <td>not sure what this book is supposed to be. It ...</td>\n",
       "    </tr>\n",
       "    <tr>\n",
       "      <th>3599999</th>\n",
       "      <td>2</td>\n",
       "      <td>I agree that every American should read this b...</td>\n",
       "    </tr>\n",
       "  </tbody>\n",
       "</table>\n",
       "<p>3600000 rows × 2 columns</p>\n",
       "</div>"
      ],
      "text/plain": [
       "         labels                                               text\n",
       "0             2  This sound track was beautiful! It paints the ...\n",
       "1             2  I'm reading a lot of reviews saying that this ...\n",
       "2             2  This soundtrack is my favorite music of all ti...\n",
       "3             2  I truly like this soundtrack and I enjoy video...\n",
       "4             2  If you've played the game, you know how divine...\n",
       "...         ...                                                ...\n",
       "3599995       1  The high chair looks great when it first comes...\n",
       "3599996       1  I have used this highchair for 2 kids now and ...\n",
       "3599997       1  We have a small house, and really wanted two o...\n",
       "3599998       1  not sure what this book is supposed to be. It ...\n",
       "3599999       2  I agree that every American should read this b...\n",
       "\n",
       "[3600000 rows x 2 columns]"
      ]
     },
     "execution_count": 10,
     "metadata": {},
     "output_type": "execute_result"
    }
   ],
   "source": [
    "train_df"
   ]
  },
  {
   "cell_type": "code",
   "execution_count": 11,
   "id": "1e7113d7-c920-4f27-aa64-3ae47d00ee68",
   "metadata": {},
   "outputs": [],
   "source": [
    "train_df['labels'] = train_df['labels'].map({1: 0, 2: 1})\n",
    "test_df['labels'] = test_df['labels'].map({1: 0, 2: 1})"
   ]
  },
  {
   "cell_type": "code",
   "execution_count": 12,
   "id": "30115376-0f58-4209-8cdf-bd536c9ce029",
   "metadata": {},
   "outputs": [
    {
     "data": {
      "text/html": [
       "<div>\n",
       "<style scoped>\n",
       "    .dataframe tbody tr th:only-of-type {\n",
       "        vertical-align: middle;\n",
       "    }\n",
       "\n",
       "    .dataframe tbody tr th {\n",
       "        vertical-align: top;\n",
       "    }\n",
       "\n",
       "    .dataframe thead th {\n",
       "        text-align: right;\n",
       "    }\n",
       "</style>\n",
       "<table border=\"1\" class=\"dataframe\">\n",
       "  <thead>\n",
       "    <tr style=\"text-align: right;\">\n",
       "      <th></th>\n",
       "      <th>labels</th>\n",
       "      <th>text</th>\n",
       "    </tr>\n",
       "  </thead>\n",
       "  <tbody>\n",
       "    <tr>\n",
       "      <th>0</th>\n",
       "      <td>1</td>\n",
       "      <td>This sound track was beautiful! It paints the ...</td>\n",
       "    </tr>\n",
       "    <tr>\n",
       "      <th>1</th>\n",
       "      <td>1</td>\n",
       "      <td>I'm reading a lot of reviews saying that this ...</td>\n",
       "    </tr>\n",
       "    <tr>\n",
       "      <th>2</th>\n",
       "      <td>1</td>\n",
       "      <td>This soundtrack is my favorite music of all ti...</td>\n",
       "    </tr>\n",
       "    <tr>\n",
       "      <th>3</th>\n",
       "      <td>1</td>\n",
       "      <td>I truly like this soundtrack and I enjoy video...</td>\n",
       "    </tr>\n",
       "    <tr>\n",
       "      <th>4</th>\n",
       "      <td>1</td>\n",
       "      <td>If you've played the game, you know how divine...</td>\n",
       "    </tr>\n",
       "    <tr>\n",
       "      <th>...</th>\n",
       "      <td>...</td>\n",
       "      <td>...</td>\n",
       "    </tr>\n",
       "    <tr>\n",
       "      <th>3599995</th>\n",
       "      <td>0</td>\n",
       "      <td>The high chair looks great when it first comes...</td>\n",
       "    </tr>\n",
       "    <tr>\n",
       "      <th>3599996</th>\n",
       "      <td>0</td>\n",
       "      <td>I have used this highchair for 2 kids now and ...</td>\n",
       "    </tr>\n",
       "    <tr>\n",
       "      <th>3599997</th>\n",
       "      <td>0</td>\n",
       "      <td>We have a small house, and really wanted two o...</td>\n",
       "    </tr>\n",
       "    <tr>\n",
       "      <th>3599998</th>\n",
       "      <td>0</td>\n",
       "      <td>not sure what this book is supposed to be. It ...</td>\n",
       "    </tr>\n",
       "    <tr>\n",
       "      <th>3599999</th>\n",
       "      <td>1</td>\n",
       "      <td>I agree that every American should read this b...</td>\n",
       "    </tr>\n",
       "  </tbody>\n",
       "</table>\n",
       "<p>3600000 rows × 2 columns</p>\n",
       "</div>"
      ],
      "text/plain": [
       "         labels                                               text\n",
       "0             1  This sound track was beautiful! It paints the ...\n",
       "1             1  I'm reading a lot of reviews saying that this ...\n",
       "2             1  This soundtrack is my favorite music of all ti...\n",
       "3             1  I truly like this soundtrack and I enjoy video...\n",
       "4             1  If you've played the game, you know how divine...\n",
       "...         ...                                                ...\n",
       "3599995       0  The high chair looks great when it first comes...\n",
       "3599996       0  I have used this highchair for 2 kids now and ...\n",
       "3599997       0  We have a small house, and really wanted two o...\n",
       "3599998       0  not sure what this book is supposed to be. It ...\n",
       "3599999       1  I agree that every American should read this b...\n",
       "\n",
       "[3600000 rows x 2 columns]"
      ]
     },
     "execution_count": 12,
     "metadata": {},
     "output_type": "execute_result"
    }
   ],
   "source": [
    "train_df"
   ]
  },
  {
   "cell_type": "code",
   "execution_count": 13,
   "id": "bae4a316-ea78-4edd-8793-caf5bac6d6de",
   "metadata": {},
   "outputs": [
    {
     "name": "stdout",
     "output_type": "stream",
     "text": [
      "labels\n",
      "1    500000\n",
      "0    500000\n",
      "Name: count, dtype: int64\n",
      "New train dataset size: 1000000\n",
      "labels\n",
      "1    50000\n",
      "0    50000\n",
      "Name: count, dtype: int64\n",
      "New test dataset size:100000\n"
     ]
    }
   ],
   "source": [
    "negatives_train = train_df[train_df[\"labels\"] == 0]\n",
    "positives_train = train_df[train_df[\"labels\"] == 1]\n",
    "\n",
    "negatives_test = test_df[test_df[\"labels\"] == 0]\n",
    "positives_test = test_df[test_df[\"labels\"] == 1]\n",
    "\n",
    "subset_size_train = 500_000\n",
    "subset_size_test = 50_000\n",
    "neg_samples_train = negatives_train.sample(n=subset_size_train, random_state=42)\n",
    "pos_samples_train = positives_train.sample(n=subset_size_train, random_state=42)\n",
    "\n",
    "neg_samples_test = negatives_test.sample(n=subset_size_test, random_state=42)\n",
    "pos_samples_test = positives_test.sample(n=subset_size_test, random_state=42)\n",
    "\n",
    "# New balanced dataset creation\n",
    "balanced_df_train = pd.concat([neg_samples_train, pos_samples_train]).sample(frac=1, random_state=42)  # Shuffling\n",
    "balanced_df_test = pd.concat([neg_samples_test,pos_samples_test]).sample(frac=1,random_state=42)\n",
    "# Results of creation new dataset\n",
    "print(balanced_df_train[\"labels\"].value_counts())  # 500K negative, 500K positive \n",
    "print(f\"New train dataset size: {len(balanced_df_train)}\")  # 1M totally\n",
    "print(balanced_df_test[\"labels\"].value_counts()) # 50K negative and 50K positive\n",
    "print(f\"New test dataset size:{len(balanced_df_test)}\") # 100K totally"
   ]
  },
  {
   "cell_type": "code",
   "execution_count": 15,
   "id": "128e407e-ac4c-491e-8d55-383372c39698",
   "metadata": {},
   "outputs": [],
   "source": [
    "import re\n",
    "\n",
    "def clean_text(text):\n",
    "    text = re.sub(r\"http\\S+|www\\S+|https\\S+\", \"\", text)  # removing URL\n",
    "    text = re.sub(r\"[^A-Za-z0-9(),!?\\'\\`]\", \" \", text)  # cleaning special character\n",
    "    text = re.sub(r\"\\s{2,}\", \" \", text)  # remove extra space\n",
    "    return text.strip()"
   ]
  },
  {
   "cell_type": "code",
   "execution_count": 16,
   "id": "9cefeb7e-3157-44e8-a977-c2a2a9988515",
   "metadata": {},
   "outputs": [],
   "source": [
    "balanced_df_train['text'] = balanced_df_train['text'].apply(clean_text)\n",
    "balanced_df_test['text'] = balanced_df_test['text'].apply(clean_text)"
   ]
  },
  {
   "cell_type": "code",
   "execution_count": 17,
   "id": "ed6e2498-fde1-434f-8d16-e54c87ec7840",
   "metadata": {},
   "outputs": [
    {
     "name": "stdout",
     "output_type": "stream",
     "text": [
      "labels    0\n",
      "text      0\n",
      "dtype: int64\n",
      "          labels\n",
      "count  1000000.0\n",
      "mean         0.5\n",
      "std          0.5\n",
      "min          0.0\n",
      "25%          0.0\n",
      "50%          0.5\n",
      "75%          1.0\n",
      "max          1.0\n"
     ]
    }
   ],
   "source": [
    "print(balanced_df_train.isnull().sum())  # Checking for null value\n",
    "print(balanced_df_train.describe())"
   ]
  },
  {
   "cell_type": "code",
   "execution_count": 21,
   "id": "31903d62-508e-49ca-a7f8-55bf273b2bd5",
   "metadata": {},
   "outputs": [],
   "source": [
    "train_texts = balanced_df_train[\"text\"]\n",
    "test_texts = balanced_df_test[\"text\"]\n",
    "train_labels = balanced_df_train[\"labels\"]\n",
    "test_labels = balanced_df_test[\"labels\"]"
   ]
  },
  {
   "cell_type": "code",
   "execution_count": 28,
   "id": "ad9878f4-5264-4ce0-b95b-e2b6a14a4fd3",
   "metadata": {},
   "outputs": [
    {
     "data": {
      "text/plain": [
       "3225001    If you want a cheaper price, directly go to de...\n",
       "967779     At first glance this would appear to be a grea...\n",
       "937749     Undoubtedly Hepburn's most accomplished perfor...\n",
       "326718     If I were them, I wouldn't find a lot of these...\n",
       "803676     The only thing resembling Jon on this release ...\n",
       "                                 ...                        \n",
       "2965866    I've been listening to this guy drone on for a...\n",
       "1205995    This book is really basic coverage of a lot of...\n",
       "2177960    The side and roof panels are very thin, I was ...\n",
       "1512557    I have used and been very pleased with this pr...\n",
       "3298972    I bought this book for my son based on a recen...\n",
       "Name: text, Length: 1000000, dtype: object"
      ]
     },
     "execution_count": 28,
     "metadata": {},
     "output_type": "execute_result"
    }
   ],
   "source": [
    "train_texts"
   ]
  },
  {
   "cell_type": "markdown",
   "id": "34cebb05-ee96-4b6f-802c-0151880377d4",
   "metadata": {},
   "source": [
    "### Tokenization and Training"
   ]
  },
  {
   "cell_type": "code",
   "execution_count": 23,
   "id": "77ef5a63-35a8-4129-aa86-89581d1e530f",
   "metadata": {},
   "outputs": [],
   "source": [
    "vocab_size = 10000        # Maximum number of words to keep\n",
    "max_length = 200          # Max review length (in words)\n",
    "oov_token = \"<OOV>\"    # Out-of-vocabulary token for unseen words\n",
    "embedding_dim = 64        # Dimension of embedding vector\n",
    "trunc_type='post'\n",
    "padding_type='post'\n",
    "\n",
    "tokenizer = Tokenizer(num_words=vocab_size, oov_token=oov_token)\n",
    "tokenizer.fit_on_texts(train_texts)\n",
    "#tokenizer.fit_on_texts(test_texts)"
   ]
  },
  {
   "cell_type": "code",
   "execution_count": 24,
   "id": "855b75b0-9487-4a65-90b4-15d30fa0a202",
   "metadata": {},
   "outputs": [
    {
     "data": {
      "text/plain": [
       "1000000"
      ]
     },
     "execution_count": 24,
     "metadata": {},
     "output_type": "execute_result"
    }
   ],
   "source": [
    "tokenizer.document_count"
   ]
  },
  {
   "cell_type": "code",
   "execution_count": 25,
   "id": "18fd3182-d704-43c7-9d09-0364c031b5eb",
   "metadata": {},
   "outputs": [],
   "source": [
    "train_sequences = tokenizer.texts_to_sequences(train_texts)\n",
    "test_sequences = tokenizer.texts_to_sequences(test_texts)"
   ]
  },
  {
   "cell_type": "code",
   "execution_count": 26,
   "id": "cd71c378-458a-493b-8fe4-f5e89988cc11",
   "metadata": {},
   "outputs": [],
   "source": [
    "train_padded = pad_sequences(\n",
    "    train_sequences, maxlen=max_length, padding=padding_type, truncating=trunc_type\n",
    ")\n",
    "test_padded = pad_sequences(\n",
    "    test_sequences, maxlen=max_length, padding=padding_type, truncating=trunc_type\n",
    ")\n"
   ]
  },
  {
   "cell_type": "code",
   "execution_count": 29,
   "id": "4c58e495-31d0-4567-b1be-fc5def0ef6b3",
   "metadata": {},
   "outputs": [],
   "source": [
    "# converting the labels to numpy series\n",
    "train_labels_np = train_labels.to_numpy()  # veya train_labels.values\n",
    "test_labels_np  = test_labels.to_numpy()\n",
    "\n",
    "\n",
    "train_ds = TensorDataset(\n",
    "    torch.LongTensor(train_padded),\n",
    "    torch.FloatTensor(train_labels_np)\n",
    ")\n",
    "test_ds = TensorDataset(\n",
    "    torch.LongTensor(test_padded),\n",
    "    torch.FloatTensor(test_labels_np)\n",
    ")\n"
   ]
  },
  {
   "cell_type": "code",
   "execution_count": 30,
   "id": "8b870139-95fc-45bb-b611-04144269148d",
   "metadata": {},
   "outputs": [],
   "source": [
    "batch_size = 128\n",
    "train_loader = DataLoader(train_ds, batch_size=batch_size, shuffle=True)\n",
    "test_loader  = DataLoader(test_ds,  batch_size=batch_size)"
   ]
  },
  {
   "cell_type": "markdown",
   "id": "913be9d6-a0d5-4921-aa5e-36f47d1171c7",
   "metadata": {},
   "source": [
    "#### LSTM model desining and hyperparameters"
   ]
  },
  {
   "cell_type": "code",
   "execution_count": 31,
   "id": "c7f220b4-3dba-40c5-88a8-ed57f607d0cc",
   "metadata": {},
   "outputs": [],
   "source": [
    "vocab_size    = 10000      \n",
    "embed_dim     = 64\n",
    "hidden_dim    = 128\n",
    "n_layers      = 4\n",
    "bidirectional = True\n",
    "dropout       = 0.2\n",
    "lr            = 1e-4\n",
    "epochs        = 20"
   ]
  },
  {
   "cell_type": "code",
   "execution_count": 32,
   "id": "82139f1f-8618-477c-9232-816c53165191",
   "metadata": {},
   "outputs": [],
   "source": [
    "class LSTMClassifier(nn.Module):\n",
    "    def __init__(self, vocab_size, embed_dim, hidden_dim,\n",
    "                 n_layers=2, bidirectional=True, dropout=0.3):\n",
    "        super().__init__()\n",
    "        self.embedding = nn.Embedding(vocab_size, embed_dim)\n",
    "        self.lstm = nn.LSTM(embed_dim,\n",
    "                            hidden_dim,\n",
    "                            num_layers=n_layers,\n",
    "                            bidirectional=bidirectional,\n",
    "                            batch_first=True)\n",
    "        self.dropout = nn.Dropout(dropout)\n",
    "        fc_in = hidden_dim * (2 if bidirectional else 1)\n",
    "        self.fc = nn.Linear(fc_in, 1)\n",
    "        \n",
    "    def forward(self, x):\n",
    "        x, _ = self.embedding(x), None            # [B, T] → [B, T, E]\n",
    "        lstm_out, _ = self.lstm(x)                # [B, T, H*D]\n",
    "        \n",
    "        if self.lstm.bidirectional:\n",
    "            h_fwd = lstm_out[:, -1, :self.lstm.hidden_size]\n",
    "            h_bwd = lstm_out[:,  0, self.lstm.hidden_size:]\n",
    "            h = torch.cat([h_fwd, h_bwd], dim=1)\n",
    "        else:\n",
    "            h = lstm_out[:, -1, :]\n",
    "        h = self.dropout(h)\n",
    "        return torch.sigmoid(self.fc(h)).squeeze()\n"
   ]
  },
  {
   "cell_type": "code",
   "execution_count": 34,
   "id": "fe9d9c8a-a3d6-40e4-9dc7-f1454e60ad23",
   "metadata": {},
   "outputs": [],
   "source": [
    "model= LSTMClassifier(vocab_size, embed_dim, hidden_dim,\n",
    "                           n_layers=n_layers,\n",
    "                           bidirectional=bidirectional,\n",
    "                           dropout=dropout).to(device)\n",
    "criterion = nn.BCELoss()\n",
    "optimizer = optim.Adam(model.parameters(), lr=lr)"
   ]
  },
  {
   "cell_type": "code",
   "execution_count": 33,
   "id": "1045bf1f-7dbc-4691-bd82-cf848028efdf",
   "metadata": {},
   "outputs": [
    {
     "name": "stdout",
     "output_type": "stream",
     "text": [
      "Using device: cuda\n"
     ]
    }
   ],
   "source": [
    "device = torch.device(\"cuda\" if torch.cuda.is_available() else \"cpu\")\n",
    "print(\"Using device:\", device)"
   ]
  },
  {
   "cell_type": "markdown",
   "id": "4ff17695-f5e3-49a9-b6e7-606db3644d6b",
   "metadata": {},
   "source": [
    "#### LSTM training"
   ]
  },
  {
   "cell_type": "code",
   "execution_count": 35,
   "id": "8a92c7a7-77e2-4a17-91ca-f024533341b1",
   "metadata": {},
   "outputs": [
    {
     "name": "stderr",
     "output_type": "stream",
     "text": [
      "                                                                       \r"
     ]
    },
    {
     "name": "stdout",
     "output_type": "stream",
     "text": [
      "Epoch 01 — Train Loss: 0.3659, Train Acc: 0.8342 | Val Loss: 0.2838, Val Acc: 0.8807\n"
     ]
    },
    {
     "name": "stderr",
     "output_type": "stream",
     "text": [
      "                                                                       \r"
     ]
    },
    {
     "name": "stdout",
     "output_type": "stream",
     "text": [
      "Epoch 02 — Train Loss: 0.2639, Train Acc: 0.8908 | Val Loss: 0.2439, Val Acc: 0.9008\n"
     ]
    },
    {
     "name": "stderr",
     "output_type": "stream",
     "text": [
      "                                                                       \r"
     ]
    },
    {
     "name": "stdout",
     "output_type": "stream",
     "text": [
      "Epoch 03 — Train Loss: 0.2333, Train Acc: 0.9052 | Val Loss: 0.2259, Val Acc: 0.9087\n"
     ]
    },
    {
     "name": "stderr",
     "output_type": "stream",
     "text": [
      "                                                                       \r"
     ]
    },
    {
     "name": "stdout",
     "output_type": "stream",
     "text": [
      "Epoch 04 — Train Loss: 0.2136, Train Acc: 0.9146 | Val Loss: 0.2105, Val Acc: 0.9158\n"
     ]
    },
    {
     "name": "stderr",
     "output_type": "stream",
     "text": [
      "                                                                       \r"
     ]
    },
    {
     "name": "stdout",
     "output_type": "stream",
     "text": [
      "Epoch 05 — Train Loss: 0.2001, Train Acc: 0.9208 | Val Loss: 0.2023, Val Acc: 0.9197\n"
     ]
    },
    {
     "name": "stderr",
     "output_type": "stream",
     "text": [
      "                                                                       \r"
     ]
    },
    {
     "name": "stdout",
     "output_type": "stream",
     "text": [
      "Epoch 06 — Train Loss: 0.1897, Train Acc: 0.9255 | Val Loss: 0.2008, Val Acc: 0.9192\n"
     ]
    },
    {
     "name": "stderr",
     "output_type": "stream",
     "text": [
      "                                                                       \r"
     ]
    },
    {
     "name": "stdout",
     "output_type": "stream",
     "text": [
      "Epoch 07 — Train Loss: 0.1808, Train Acc: 0.9294 | Val Loss: 0.1927, Val Acc: 0.9241\n"
     ]
    },
    {
     "name": "stderr",
     "output_type": "stream",
     "text": [
      "                                                                       \r"
     ]
    },
    {
     "name": "stdout",
     "output_type": "stream",
     "text": [
      "Epoch 08 — Train Loss: 0.1737, Train Acc: 0.9328 | Val Loss: 0.1929, Val Acc: 0.9245\n"
     ]
    },
    {
     "name": "stderr",
     "output_type": "stream",
     "text": [
      "                                                                       \r"
     ]
    },
    {
     "name": "stdout",
     "output_type": "stream",
     "text": [
      "Epoch 09 — Train Loss: 0.1668, Train Acc: 0.9358 | Val Loss: 0.1940, Val Acc: 0.9244\n"
     ]
    },
    {
     "name": "stderr",
     "output_type": "stream",
     "text": [
      "                                                                        \r"
     ]
    },
    {
     "name": "stdout",
     "output_type": "stream",
     "text": [
      "Epoch 10 — Train Loss: 0.1608, Train Acc: 0.9384 | Val Loss: 0.1870, Val Acc: 0.9272\n"
     ]
    },
    {
     "name": "stderr",
     "output_type": "stream",
     "text": [
      "                                                                        \r"
     ]
    },
    {
     "name": "stdout",
     "output_type": "stream",
     "text": [
      "Epoch 11 — Train Loss: 0.1548, Train Acc: 0.9413 | Val Loss: 0.1822, Val Acc: 0.9289\n"
     ]
    },
    {
     "name": "stderr",
     "output_type": "stream",
     "text": [
      "                                                                        \r"
     ]
    },
    {
     "name": "stdout",
     "output_type": "stream",
     "text": [
      "Epoch 12 — Train Loss: 0.1492, Train Acc: 0.9437 | Val Loss: 0.1847, Val Acc: 0.9284\n"
     ]
    },
    {
     "name": "stderr",
     "output_type": "stream",
     "text": [
      "                                                                        \r"
     ]
    },
    {
     "name": "stdout",
     "output_type": "stream",
     "text": [
      "Epoch 13 — Train Loss: 0.1441, Train Acc: 0.9458 | Val Loss: 0.1837, Val Acc: 0.9296\n"
     ]
    },
    {
     "name": "stderr",
     "output_type": "stream",
     "text": [
      "                                                                        \r"
     ]
    },
    {
     "name": "stdout",
     "output_type": "stream",
     "text": [
      "Epoch 14 — Train Loss: 0.1383, Train Acc: 0.9483 | Val Loss: 0.1904, Val Acc: 0.9283\n"
     ]
    },
    {
     "name": "stderr",
     "output_type": "stream",
     "text": [
      "                                                                        \r"
     ]
    },
    {
     "name": "stdout",
     "output_type": "stream",
     "text": [
      "Epoch 15 — Train Loss: 0.1333, Train Acc: 0.9507 | Val Loss: 0.1935, Val Acc: 0.9287\n"
     ]
    },
    {
     "name": "stderr",
     "output_type": "stream",
     "text": [
      "                                                                        \r"
     ]
    },
    {
     "name": "stdout",
     "output_type": "stream",
     "text": [
      "Epoch 16 — Train Loss: 0.1280, Train Acc: 0.9530 | Val Loss: 0.1885, Val Acc: 0.9289\n"
     ]
    },
    {
     "name": "stderr",
     "output_type": "stream",
     "text": [
      "                                                                        \r"
     ]
    },
    {
     "name": "stdout",
     "output_type": "stream",
     "text": [
      "Epoch 17 — Train Loss: 0.1228, Train Acc: 0.9552 | Val Loss: 0.1945, Val Acc: 0.9283\n"
     ]
    },
    {
     "name": "stderr",
     "output_type": "stream",
     "text": [
      "                                                                        \r"
     ]
    },
    {
     "name": "stdout",
     "output_type": "stream",
     "text": [
      "Epoch 18 — Train Loss: 0.1175, Train Acc: 0.9574 | Val Loss: 0.1976, Val Acc: 0.9281\n"
     ]
    },
    {
     "name": "stderr",
     "output_type": "stream",
     "text": [
      "                                                                        \r"
     ]
    },
    {
     "name": "stdout",
     "output_type": "stream",
     "text": [
      "Epoch 19 — Train Loss: 0.1118, Train Acc: 0.9598 | Val Loss: 0.2009, Val Acc: 0.9282\n"
     ]
    },
    {
     "name": "stderr",
     "output_type": "stream",
     "text": [
      "                                                                        "
     ]
    },
    {
     "name": "stdout",
     "output_type": "stream",
     "text": [
      "Epoch 20 — Train Loss: 0.1068, Train Acc: 0.9619 | Val Loss: 0.2088, Val Acc: 0.9269\n"
     ]
    },
    {
     "name": "stderr",
     "output_type": "stream",
     "text": [
      "\r"
     ]
    }
   ],
   "source": [
    "for epoch in range(1, epochs+1):\n",
    "    model.train()\n",
    "    train_loss, train_acc = 0.0, 0.0\n",
    "    for X, y in tqdm(train_loader,desc=f\"Epoch {epoch}/{epochs} [Train]\", leave=False):\n",
    "        X, y = X.to(device), y.to(device)\n",
    "        optimizer.zero_grad()\n",
    "        preds = model(X)\n",
    "        loss  = criterion(preds, y)\n",
    "        loss.backward()\n",
    "        optimizer.step()\n",
    "        train_loss += loss.item()\n",
    "        train_acc  += ((preds>=0.5).float() == y).float().mean().item()\n",
    "    train_loss /= len(train_loader)\n",
    "    train_acc  /= len(train_loader)\n",
    "    \n",
    "    model.eval()\n",
    "    val_loss, val_acc = 0.0, 0.0\n",
    "    with torch.no_grad():\n",
    "        for X, y in tqdm(test_loader,desc=f\"Epoch {epoch}/{epochs} [Valid]\",leave=False):\n",
    "            X, y = X.to(device), y.to(device)\n",
    "            preds = model(X)\n",
    "            loss  = criterion(preds, y)\n",
    "            val_loss += loss.item()\n",
    "            val_acc  += ((preds>=0.5).float() == y).float().mean().item()\n",
    "    val_loss /= len(test_loader)\n",
    "    val_acc  /= len(test_loader)\n",
    "    \n",
    "    print(f\"Epoch {epoch:02d} — \"\n",
    "          f\"Train Loss: {train_loss:.4f}, Train Acc: {train_acc:.4f} | \"\n",
    "          f\"Val Loss: {val_loss:.4f}, Val Acc: {val_acc:.4f}\")"
   ]
  },
  {
   "cell_type": "code",
   "execution_count": 44,
   "id": "6237ad8b-848d-43b6-b1b8-db936ecc1aaf",
   "metadata": {},
   "outputs": [
    {
     "name": "stdout",
     "output_type": "stream",
     "text": [
      "mkdir: cannot create directory ‘lstm_imdb_models’: File exists\n",
      "Model kaydedildi → lstm_imdb_models/lstm_classifier_2.pt\n"
     ]
    }
   ],
   "source": [
    "## save model\n",
    "!mkdir lstm_amazon_models\n",
    "MODEL_PATH = \"lstm_amazon_models/lstm_classifier.pt\"\n",
    "torch.save(model, MODEL_PATH)\n",
    "print(f\"Model kaydedildi → {MODEL_PATH}\")"
   ]
  },
  {
   "cell_type": "code",
   "execution_count": null,
   "id": "cfed6759-d860-4224-832b-c2654e99702f",
   "metadata": {},
   "outputs": [],
   "source": [
    "## upload model and eval with state_dict format\n",
    "model = LSTMClassifier(\n",
    "    vocab_size, embed_dim, hidden_dim,\n",
    "    n_layers=n_layers,\n",
    "    bidirectional=bidirectional,\n",
    "    dropout=dropout\n",
    ").to(device)\n",
    "\n",
    "model.load_state_dict(torch.load(MODEL_PATH, map_location=device))\n",
    "\n",
    "model.eval()"
   ]
  },
  {
   "cell_type": "code",
   "execution_count": 45,
   "id": "ae3f19be-855c-4690-8eab-43322ba8e7e6",
   "metadata": {},
   "outputs": [
    {
     "name": "stderr",
     "output_type": "stream",
     "text": [
      "/tmp/ipykernel_1788972/304414613.py:2: FutureWarning: You are using `torch.load` with `weights_only=False` (the current default value), which uses the default pickle module implicitly. It is possible to construct malicious pickle data which will execute arbitrary code during unpickling (See https://github.com/pytorch/pytorch/blob/main/SECURITY.md#untrusted-models for more details). In a future release, the default value for `weights_only` will be flipped to `True`. This limits the functions that could be executed during unpickling. Arbitrary objects will no longer be allowed to be loaded via this mode unless they are explicitly allowlisted by the user via `torch.serialization.add_safe_globals`. We recommend you start setting `weights_only=True` for any use case where you don't have full control of the loaded file. Please open an issue on GitHub for any issues related to this experimental feature.\n",
      "  model = torch.load(\"lstm_imdb_models/lstm_classifier_2.pt\", map_location=device)\n"
     ]
    }
   ],
   "source": [
    "# without statedict format\n",
    "model = torch.load(\"lstm_imdb_models/lstm_classifier_2.pt\", map_location=device)\n"
   ]
  },
  {
   "cell_type": "code",
   "execution_count": 36,
   "id": "953af031-147f-49a6-8a7c-4dd414adfc7e",
   "metadata": {},
   "outputs": [
    {
     "name": "stdout",
     "output_type": "stream",
     "text": [
      "Accuracy : 0.9269\n",
      "Precision: 0.9203\n",
      "Recall   : 0.9348\n",
      "F1-Score : 0.9275\n",
      "Confusion Matrix:\n",
      " [[45951  4049]\n",
      " [ 3262 46738]]\n"
     ]
    },
    {
     "data": {
      "image/png": "[encoded data removed]",
      "text/plain": [
       "<Figure size 800x600 with 2 Axes>"
      ]
     },
     "metadata": {},
     "output_type": "display_data"
    }
   ],
   "source": [
    "from sklearn.metrics import (\n",
    "    confusion_matrix,\n",
    "    accuracy_score,\n",
    "    precision_score,\n",
    "    recall_score,\n",
    "    f1_score\n",
    ")\n",
    "import seaborn as sns\n",
    "import matplotlib.pyplot as plt\n",
    "import numpy as np\n",
    "\n",
    "\n",
    "all_preds = []\n",
    "all_labels = []\n",
    "model.eval()\n",
    "with torch.no_grad():\n",
    "    for X, y in test_loader:\n",
    "        X = X.to(device)\n",
    "        preds = model(X)\n",
    "        # 0.5 eşik ile ikili sınıf tahmini\n",
    "        preds = (preds.cpu().numpy() >= 0.5).astype(int)\n",
    "        all_preds.extend(preds)\n",
    "        all_labels.extend(y.numpy().astype(int))\n",
    "\n",
    "all_preds  = np.array(all_preds)\n",
    "all_labels = np.array(all_labels)\n",
    "\n",
    "# 4) Metrikleri hesapla\n",
    "acc   = accuracy_score(all_labels, all_preds)\n",
    "prec  = precision_score(all_labels, all_preds)\n",
    "rec   = recall_score(all_labels, all_preds)\n",
    "f1    = f1_score(all_labels, all_preds)\n",
    "cm    = confusion_matrix(all_labels, all_preds)\n",
    "\n",
    "print(f\"Accuracy : {acc:.4f}\")\n",
    "print(f\"Precision: {prec:.4f}\")\n",
    "print(f\"Recall   : {rec:.4f}\")\n",
    "print(f\"F1-Score : {f1:.4f}\")\n",
    "print(\"Confusion Matrix:\\n\", cm)\n",
    "\n",
    "# 5) Confusion Matrix’i görselleştir (opsiyonel)\n",
    "plt.figure(figsize=(8,6))\n",
    "sns.heatmap(cm, annot=True, fmt=\"d\", cmap=\"Blues\",\n",
    "            xticklabels=[\"Neg\",\"Pos\"],\n",
    "            yticklabels=[\"Neg\",\"Pos\"])\n",
    "plt.xlabel(\"Prediction\")\n",
    "plt.ylabel(\"Ground Truth\")\n",
    "plt.title(\"Confusion Matrix\")\n",
    "plt.show()"
   ]
  },
  {
   "cell_type": "code",
   "execution_count": 37,
   "id": "05d431c1-b122-43c5-8b7f-c5abc923fa40",
   "metadata": {},
   "outputs": [
    {
     "data": {
      "image/png": "[encoded data removed]",
      "text/plain": [
       "<Figure size 800x600 with 1 Axes>"
      ]
     },
     "metadata": {},
     "output_type": "display_data"
    }
   ],
   "source": [
    "metrics = {\n",
    "    \"Accuracy\" : acc,\n",
    "    \"Precision\": prec,\n",
    "    \"Recall\"   : rec,\n",
    "    \"F1-Score\" : f1\n",
    "}\n",
    "\n",
    "# Dinamik y-ekseni aralığı: en düşük değerin hemen altından en yüksek değerin biraz üstüne\n",
    "values = list(metrics.values())\n",
    "min_val, max_val = min(values), max(values)\n",
    "margin = 0.01  # %5 marjin\n",
    "ymin = max(min_val - margin, 0)\n",
    "ymax = min(max_val + margin, 1.0)\n",
    "\n",
    "# Renk paleti (4 farklı renk)\n",
    "colors = [\"#1f77b4\", \"#ff7f0e\", \"#2ca02c\", \"#d62728\"]\n",
    "\n",
    "plt.figure(figsize=(8,6))\n",
    "bars = plt.bar(metrics.keys(), metrics.values(), color=colors)\n",
    "plt.ylim(ymin, ymax)\n",
    "plt.ylabel(\"Score\")\n",
    "plt.title(\"Classification Metrics\")\n",
    "\n",
    "# Her bar'ın tepesine değer ekleyelim\n",
    "for bar in bars:\n",
    "    height = bar.get_height()\n",
    "    plt.text(\n",
    "        bar.get_x() + bar.get_width()/2,\n",
    "        height + 0.001,\n",
    "        f\"{height:.2f}\",\n",
    "        ha=\"center\",\n",
    "        va=\"bottom\"\n",
    "    )\n",
    "\n",
    "plt.show()"
   ]
  },
  {
   "cell_type": "code",
   "execution_count": null,
   "id": "a799f1ee-2c77-450c-83f4-0279f0ea5910",
   "metadata": {},
   "outputs": [],
   "source": []
  },
  {
   "cell_type": "code",
   "execution_count": null,
   "id": "86ca2c70-66ff-4473-b61c-1d9f54ee662b",
   "metadata": {},
   "outputs": [],
   "source": []
  },
  {
   "cell_type": "markdown",
   "id": "c195d0f1-3649-4f24-a680-b8db3c3e3cee",
   "metadata": {},
   "source": [
    "### Calculation of Metrics"
   ]
  },
  {
   "cell_type": "code",
   "execution_count": null,
   "id": "a9cd6f1b-425e-49d5-97a3-96234769c237",
   "metadata": {},
   "outputs": [],
   "source": [
    "from torch.utils.data import DataLoader\n",
    "from datasets import Dataset\n",
    "import numpy as np\n",
    "from tqdm import tqdm\n",
    "#test_tokenized = test_tokenized.rename_columns({\"label\": \"labels\"})\n",
    "testing_dataloader = DataLoader(test_tokenized, batch_size=128, shuffle=False)\n",
    "\n",
    "model.eval()\n",
    "preds = []\n",
    "labels = []\n",
    "\n",
    "with torch.no_grad():\n",
    "    for batch in tqdm(testing_dataloader,desc=\"Prediction Progress\",unit= \"batch\"):\n",
    "        inputs = {k:v.to(\"cuda\") for k,v in batch.items() if k != \"label\"}\n",
    "        outputs = model(**inputs)\n",
    "        logits = outputs.logits\n",
    "        predictions = torch.argmax(logits,dim=-1).cpu().numpy()\n",
    "\n",
    "        preds.extend(predictions)\n",
    "        labels.extend(batch[\"label\"].cpu().numpy())\n",
    "\n",
    "preds = np.array(preds)\n",
    "labels = np.array(labels)"
   ]
  },
  {
   "cell_type": "code",
   "execution_count": null,
   "id": "6ca19beb-4c1a-4578-b0b8-cb11e9f189d9",
   "metadata": {},
   "outputs": [],
   "source": [
    "from sklearn.metrics import accuracy_score, precision_recall_fscore_support, confusion_matrix\n",
    "import seaborn as sns\n",
    "# Accuracy \n",
    "accuracy = accuracy_score(labels, preds)\n",
    "\n",
    "# Precision, Recall, F1-score(average=\"binary\" for 2 class )\n",
    "precision, recall, f1, _ = precision_recall_fscore_support(labels, preds, average=\"binary\")\n",
    "\n",
    "# Confusion Matrix \n",
    "conf_matrix = confusion_matrix(labels, preds)\n",
    "\n",
    "# Results\n",
    "print(f\"Accuracy: {accuracy:.4f}\")\n",
    "print(f\"Precision: {precision:.4f}\")\n",
    "print(f\"Recall: {recall:.4f}\")\n",
    "print(f\"F1 Score: {f1:.4f}\")\n",
    "\n",
    "# 📌 **Confusion Matrix Visualization**\n",
    "plt.figure(figsize=(6,5))\n",
    "sns.heatmap(conf_matrix, annot=True, fmt='d', cmap=\"Blues\", xticklabels=[\"Negative\", \"Positive\"], yticklabels=[\"Negative\", \"Positive\"])\n",
    "plt.xlabel(\"Predicted Label\")\n",
    "plt.ylabel(\"True Label\")\n",
    "plt.title(\"Confusion Matrix\")\n",
    "plt.show()\n",
    "\n",
    "# 📌 **Precision - Recall - F1 Score Bar Chart**\n",
    "metrics = {\"Accuracy\": accuracy, \"Precision\": precision, \"Recall\": recall, \"F1 Score\": f1}\n",
    "plt.figure(figsize=(8,5))\n",
    "sns.barplot(x=list(metrics.keys()), y=list(metrics.values()), palette=\"viridis\")\n",
    "plt.ylim(0, 1)\n",
    "plt.ylabel(\"Score\")\n",
    "plt.title(\"Evaluation Metrics\")\n",
    "plt.show()"
   ]
  },
  {
   "cell_type": "markdown",
   "id": "9f0ea986-94e8-408a-8c43-78e43a9d924c",
   "metadata": {},
   "source": [
    "### Manuel Testing "
   ]
  },
  {
   "cell_type": "code",
   "execution_count": null,
   "id": "c93ffe5d-fe2b-4234-96fb-6c007a2fc0dc",
   "metadata": {},
   "outputs": [],
   "source": [
    "test_sentence = [\"very good\"]\n",
    "inputs = tokenizer(test_sentence, padding=True, truncation=True, return_tensors=\"pt\", max_length=512).to(\"cuda\")\n",
    "with torch.no_grad():\n",
    "    output_of_manuel = model(**inputs)\n",
    "\n",
    "predictions_of_manuel = torch.argmax(output_of_manuel.logits,dim=-1)\n",
    "\n",
    "for sentence,prediction_of_manuel in zip(test_sentence,predictions_of_manuel):\n",
    "    sentiment = \"Negative\" if prediction_of_manuel.item() == 1 else \"Positive\"\n",
    "    print(f\"Sentence: '{sentence}' => Sentiment: {sentiment}\")"
   ]
  },
  {
   "cell_type": "code",
   "execution_count": null,
   "id": "9a48186a-33a2-42e6-9f31-d6ace4547061",
   "metadata": {},
   "outputs": [],
   "source": [
    "print(prediction_of_manuel)"
   ]
  },
  {
   "cell_type": "code",
   "execution_count": null,
   "id": "b0d9356a-1205-4f2a-9721-194902c6aab1",
   "metadata": {},
   "outputs": [],
   "source": [
    "# Cross data validation amazon to imdb model , otherwise.\n",
    "# bir de hatalı yapanlarda bir bias var mı hata ayıklama,\n",
    "# görselleştirmeyi düzenlemek gerekiyo, detaylı gözüksün değerler.\n",
    "# "
   ]
  },
  {
   "cell_type": "code",
   "execution_count": null,
   "id": "e8330ab7-9e64-4cf2-970f-bf56d7253fc4",
   "metadata": {},
   "outputs": [],
   "source": []
  }
 ],
 "metadata": {
  "kernelspec": {
   "display_name": "ilgin",
   "language": "python",
   "name": "ilgin"
  },
  "language_info": {
   "codemirror_mode": {
    "name": "ipython",
    "version": 3
   },
   "file_extension": ".py",
   "mimetype": "text/x-python",
   "name": "python",
   "nbconvert_exporter": "python",
   "pygments_lexer": "ipython3",
   "version": "3.10.16"
  }
 },
 "nbformat": 4,
 "nbformat_minor": 5
}
