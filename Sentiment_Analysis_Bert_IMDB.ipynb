{
 "cells": [
  {
   "cell_type": "markdown",
   "id": "40a7ebdf-9676-4694-8add-041d288bb09b",
   "metadata": {},
   "source": [
    "### Importing Necessary Packages"
   ]
  },
  {
   "cell_type": "code",
   "execution_count": 1,
   "id": "e6eec73a-86e8-4495-b87c-f04b14494f1f",
   "metadata": {},
   "outputs": [
    {
     "name": "stderr",
     "output_type": "stream",
     "text": [
      "/data/ai-vision/miniconda3/envs/ilgin/lib/python3.10/site-packages/tqdm/auto.py:21: TqdmWarning: IProgress not found. Please update jupyter and ipywidgets. See https://ipywidgets.readthedocs.io/en/stable/user_install.html\n",
      "  from .autonotebook import tqdm as notebook_tqdm\n",
      "2025-05-22 21:31:13.569789: I tensorflow/core/util/port.cc:153] oneDNN custom operations are on. You may see slightly different numerical results due to floating-point round-off errors from different computation orders. To turn them off, set the environment variable `TF_ENABLE_ONEDNN_OPTS=0`.\n",
      "2025-05-22 21:31:13.583670: E external/local_xla/xla/stream_executor/cuda/cuda_fft.cc:467] Unable to register cuFFT factory: Attempting to register factory for plugin cuFFT when one has already been registered\n",
      "WARNING: All log messages before absl::InitializeLog() is called are written to STDERR\n",
      "E0000 00:00:1747938673.601217 1822473 cuda_dnn.cc:8579] Unable to register cuDNN factory: Attempting to register factory for plugin cuDNN when one has already been registered\n",
      "E0000 00:00:1747938673.606402 1822473 cuda_blas.cc:1407] Unable to register cuBLAS factory: Attempting to register factory for plugin cuBLAS when one has already been registered\n",
      "W0000 00:00:1747938673.619463 1822473 computation_placer.cc:177] computation placer already registered. Please check linkage and avoid linking the same target more than once.\n",
      "W0000 00:00:1747938673.619484 1822473 computation_placer.cc:177] computation placer already registered. Please check linkage and avoid linking the same target more than once.\n",
      "W0000 00:00:1747938673.619487 1822473 computation_placer.cc:177] computation placer already registered. Please check linkage and avoid linking the same target more than once.\n",
      "W0000 00:00:1747938673.619490 1822473 computation_placer.cc:177] computation placer already registered. Please check linkage and avoid linking the same target more than once.\n",
      "2025-05-22 21:31:13.623548: I tensorflow/core/platform/cpu_feature_guard.cc:210] This TensorFlow binary is optimized to use available CPU instructions in performance-critical operations.\n",
      "To enable the following instructions: AVX2 AVX512F AVX512_VNNI FMA, in other operations, rebuild TensorFlow with the appropriate compiler flags.\n"
     ]
    }
   ],
   "source": [
    "import pandas as pd\n",
    "import numpy as np\n",
    "from transformers import pipeline,AutoTokenizer,AutoModelForSequenceClassification,TrainingArguments, Trainer\n",
    "import matplotlib.pyplot as plt\n",
    "import seaborn as sns\n",
    "from collections import Counter\n",
    "import torch\n",
    "from wordcloud import WordCloud, STOPWORDS\n",
    "import warnings\n",
    "from sklearn.metrics import classification_report\n",
    "from datasets import Dataset,load_dataset\n",
    "import re"
   ]
  },
  {
   "cell_type": "markdown",
   "id": "e24c3df9-1101-4117-b14f-1c76b75a7101",
   "metadata": {},
   "source": [
    "### Upload dataset"
   ]
  },
  {
   "cell_type": "code",
   "execution_count": 2,
   "id": "9ace8a56-2a1e-4cbc-b4a2-d5c1a81959be",
   "metadata": {},
   "outputs": [],
   "source": [
    "# Original Dataset review\n",
    "original_df_train = pd.read_csv('./IMDB_Dataset.csv')\n"
   ]
  },
  {
   "cell_type": "code",
   "execution_count": 3,
   "id": "d2a1ac4a-afd8-488b-8e1a-79ea42da7cad",
   "metadata": {},
   "outputs": [
    {
     "data": {
      "text/html": [
       "<div>\n",
       "<style scoped>\n",
       "    .dataframe tbody tr th:only-of-type {\n",
       "        vertical-align: middle;\n",
       "    }\n",
       "\n",
       "    .dataframe tbody tr th {\n",
       "        vertical-align: top;\n",
       "    }\n",
       "\n",
       "    .dataframe thead th {\n",
       "        text-align: right;\n",
       "    }\n",
       "</style>\n",
       "<table border=\"1\" class=\"dataframe\">\n",
       "  <thead>\n",
       "    <tr style=\"text-align: right;\">\n",
       "      <th></th>\n",
       "      <th>review</th>\n",
       "      <th>sentiment</th>\n",
       "    </tr>\n",
       "  </thead>\n",
       "  <tbody>\n",
       "    <tr>\n",
       "      <th>0</th>\n",
       "      <td>One of the other reviewers has mentioned that ...</td>\n",
       "      <td>positive</td>\n",
       "    </tr>\n",
       "    <tr>\n",
       "      <th>1</th>\n",
       "      <td>A wonderful little production. &lt;br /&gt;&lt;br /&gt;The...</td>\n",
       "      <td>positive</td>\n",
       "    </tr>\n",
       "    <tr>\n",
       "      <th>2</th>\n",
       "      <td>I thought this was a wonderful way to spend ti...</td>\n",
       "      <td>positive</td>\n",
       "    </tr>\n",
       "    <tr>\n",
       "      <th>3</th>\n",
       "      <td>Basically there's a family where a little boy ...</td>\n",
       "      <td>negative</td>\n",
       "    </tr>\n",
       "    <tr>\n",
       "      <th>4</th>\n",
       "      <td>Petter Mattei's \"Love in the Time of Money\" is...</td>\n",
       "      <td>positive</td>\n",
       "    </tr>\n",
       "    <tr>\n",
       "      <th>...</th>\n",
       "      <td>...</td>\n",
       "      <td>...</td>\n",
       "    </tr>\n",
       "    <tr>\n",
       "      <th>49995</th>\n",
       "      <td>I thought this movie did a down right good job...</td>\n",
       "      <td>positive</td>\n",
       "    </tr>\n",
       "    <tr>\n",
       "      <th>49996</th>\n",
       "      <td>Bad plot, bad dialogue, bad acting, idiotic di...</td>\n",
       "      <td>negative</td>\n",
       "    </tr>\n",
       "    <tr>\n",
       "      <th>49997</th>\n",
       "      <td>I am a Catholic taught in parochial elementary...</td>\n",
       "      <td>negative</td>\n",
       "    </tr>\n",
       "    <tr>\n",
       "      <th>49998</th>\n",
       "      <td>I'm going to have to disagree with the previou...</td>\n",
       "      <td>negative</td>\n",
       "    </tr>\n",
       "    <tr>\n",
       "      <th>49999</th>\n",
       "      <td>No one expects the Star Trek movies to be high...</td>\n",
       "      <td>negative</td>\n",
       "    </tr>\n",
       "  </tbody>\n",
       "</table>\n",
       "<p>50000 rows × 2 columns</p>\n",
       "</div>"
      ],
      "text/plain": [
       "                                                  review sentiment\n",
       "0      One of the other reviewers has mentioned that ...  positive\n",
       "1      A wonderful little production. <br /><br />The...  positive\n",
       "2      I thought this was a wonderful way to spend ti...  positive\n",
       "3      Basically there's a family where a little boy ...  negative\n",
       "4      Petter Mattei's \"Love in the Time of Money\" is...  positive\n",
       "...                                                  ...       ...\n",
       "49995  I thought this movie did a down right good job...  positive\n",
       "49996  Bad plot, bad dialogue, bad acting, idiotic di...  negative\n",
       "49997  I am a Catholic taught in parochial elementary...  negative\n",
       "49998  I'm going to have to disagree with the previou...  negative\n",
       "49999  No one expects the Star Trek movies to be high...  negative\n",
       "\n",
       "[50000 rows x 2 columns]"
      ]
     },
     "execution_count": 3,
     "metadata": {},
     "output_type": "execute_result"
    }
   ],
   "source": [
    "original_df_train\n"
   ]
  },
  {
   "cell_type": "markdown",
   "id": "b80257c7-7723-499c-b9a2-6240fe475bc9",
   "metadata": {},
   "source": [
    "### Data Preprocessing Step"
   ]
  },
  {
   "cell_type": "code",
   "execution_count": 4,
   "id": "b98fa5ed-3eea-4842-8ea2-beda0521f41d",
   "metadata": {},
   "outputs": [],
   "source": [
    "# The first line has been made into a heading for readability.\n",
    "original_df_train.rename(columns={'review': 'text', 'sentiment': 'label'}, inplace=True)\n"
   ]
  },
  {
   "cell_type": "code",
   "execution_count": 5,
   "id": "0e68de60-a10b-41cb-9a57-71e87ad0b332",
   "metadata": {},
   "outputs": [
    {
     "data": {
      "text/html": [
       "<div>\n",
       "<style scoped>\n",
       "    .dataframe tbody tr th:only-of-type {\n",
       "        vertical-align: middle;\n",
       "    }\n",
       "\n",
       "    .dataframe tbody tr th {\n",
       "        vertical-align: top;\n",
       "    }\n",
       "\n",
       "    .dataframe thead th {\n",
       "        text-align: right;\n",
       "    }\n",
       "</style>\n",
       "<table border=\"1\" class=\"dataframe\">\n",
       "  <thead>\n",
       "    <tr style=\"text-align: right;\">\n",
       "      <th></th>\n",
       "      <th>text</th>\n",
       "      <th>label</th>\n",
       "    </tr>\n",
       "  </thead>\n",
       "  <tbody>\n",
       "    <tr>\n",
       "      <th>0</th>\n",
       "      <td>One of the other reviewers has mentioned that ...</td>\n",
       "      <td>positive</td>\n",
       "    </tr>\n",
       "    <tr>\n",
       "      <th>1</th>\n",
       "      <td>A wonderful little production. &lt;br /&gt;&lt;br /&gt;The...</td>\n",
       "      <td>positive</td>\n",
       "    </tr>\n",
       "    <tr>\n",
       "      <th>2</th>\n",
       "      <td>I thought this was a wonderful way to spend ti...</td>\n",
       "      <td>positive</td>\n",
       "    </tr>\n",
       "    <tr>\n",
       "      <th>3</th>\n",
       "      <td>Basically there's a family where a little boy ...</td>\n",
       "      <td>negative</td>\n",
       "    </tr>\n",
       "    <tr>\n",
       "      <th>4</th>\n",
       "      <td>Petter Mattei's \"Love in the Time of Money\" is...</td>\n",
       "      <td>positive</td>\n",
       "    </tr>\n",
       "    <tr>\n",
       "      <th>...</th>\n",
       "      <td>...</td>\n",
       "      <td>...</td>\n",
       "    </tr>\n",
       "    <tr>\n",
       "      <th>49995</th>\n",
       "      <td>I thought this movie did a down right good job...</td>\n",
       "      <td>positive</td>\n",
       "    </tr>\n",
       "    <tr>\n",
       "      <th>49996</th>\n",
       "      <td>Bad plot, bad dialogue, bad acting, idiotic di...</td>\n",
       "      <td>negative</td>\n",
       "    </tr>\n",
       "    <tr>\n",
       "      <th>49997</th>\n",
       "      <td>I am a Catholic taught in parochial elementary...</td>\n",
       "      <td>negative</td>\n",
       "    </tr>\n",
       "    <tr>\n",
       "      <th>49998</th>\n",
       "      <td>I'm going to have to disagree with the previou...</td>\n",
       "      <td>negative</td>\n",
       "    </tr>\n",
       "    <tr>\n",
       "      <th>49999</th>\n",
       "      <td>No one expects the Star Trek movies to be high...</td>\n",
       "      <td>negative</td>\n",
       "    </tr>\n",
       "  </tbody>\n",
       "</table>\n",
       "<p>50000 rows × 2 columns</p>\n",
       "</div>"
      ],
      "text/plain": [
       "                                                    text     label\n",
       "0      One of the other reviewers has mentioned that ...  positive\n",
       "1      A wonderful little production. <br /><br />The...  positive\n",
       "2      I thought this was a wonderful way to spend ti...  positive\n",
       "3      Basically there's a family where a little boy ...  negative\n",
       "4      Petter Mattei's \"Love in the Time of Money\" is...  positive\n",
       "...                                                  ...       ...\n",
       "49995  I thought this movie did a down right good job...  positive\n",
       "49996  Bad plot, bad dialogue, bad acting, idiotic di...  negative\n",
       "49997  I am a Catholic taught in parochial elementary...  negative\n",
       "49998  I'm going to have to disagree with the previou...  negative\n",
       "49999  No one expects the Star Trek movies to be high...  negative\n",
       "\n",
       "[50000 rows x 2 columns]"
      ]
     },
     "execution_count": 5,
     "metadata": {},
     "output_type": "execute_result"
    }
   ],
   "source": [
    "original_df_train"
   ]
  },
  {
   "cell_type": "code",
   "execution_count": 6,
   "id": "b33f892e-d922-4c24-86dd-43c5f5a3f6b1",
   "metadata": {},
   "outputs": [],
   "source": [
    "original_df_train['label'] = original_df_train['label'].map({\"positive\": 0, \"negative\": 1})\n"
   ]
  },
  {
   "cell_type": "code",
   "execution_count": 7,
   "id": "29510ac1-2ef0-46d0-ade1-5c1e9fc33e4d",
   "metadata": {},
   "outputs": [
    {
     "data": {
      "text/html": [
       "<div>\n",
       "<style scoped>\n",
       "    .dataframe tbody tr th:only-of-type {\n",
       "        vertical-align: middle;\n",
       "    }\n",
       "\n",
       "    .dataframe tbody tr th {\n",
       "        vertical-align: top;\n",
       "    }\n",
       "\n",
       "    .dataframe thead th {\n",
       "        text-align: right;\n",
       "    }\n",
       "</style>\n",
       "<table border=\"1\" class=\"dataframe\">\n",
       "  <thead>\n",
       "    <tr style=\"text-align: right;\">\n",
       "      <th></th>\n",
       "      <th>text</th>\n",
       "      <th>label</th>\n",
       "    </tr>\n",
       "  </thead>\n",
       "  <tbody>\n",
       "    <tr>\n",
       "      <th>0</th>\n",
       "      <td>One of the other reviewers has mentioned that ...</td>\n",
       "      <td>0</td>\n",
       "    </tr>\n",
       "    <tr>\n",
       "      <th>1</th>\n",
       "      <td>A wonderful little production. &lt;br /&gt;&lt;br /&gt;The...</td>\n",
       "      <td>0</td>\n",
       "    </tr>\n",
       "    <tr>\n",
       "      <th>2</th>\n",
       "      <td>I thought this was a wonderful way to spend ti...</td>\n",
       "      <td>0</td>\n",
       "    </tr>\n",
       "    <tr>\n",
       "      <th>3</th>\n",
       "      <td>Basically there's a family where a little boy ...</td>\n",
       "      <td>1</td>\n",
       "    </tr>\n",
       "    <tr>\n",
       "      <th>4</th>\n",
       "      <td>Petter Mattei's \"Love in the Time of Money\" is...</td>\n",
       "      <td>0</td>\n",
       "    </tr>\n",
       "    <tr>\n",
       "      <th>...</th>\n",
       "      <td>...</td>\n",
       "      <td>...</td>\n",
       "    </tr>\n",
       "    <tr>\n",
       "      <th>49995</th>\n",
       "      <td>I thought this movie did a down right good job...</td>\n",
       "      <td>0</td>\n",
       "    </tr>\n",
       "    <tr>\n",
       "      <th>49996</th>\n",
       "      <td>Bad plot, bad dialogue, bad acting, idiotic di...</td>\n",
       "      <td>1</td>\n",
       "    </tr>\n",
       "    <tr>\n",
       "      <th>49997</th>\n",
       "      <td>I am a Catholic taught in parochial elementary...</td>\n",
       "      <td>1</td>\n",
       "    </tr>\n",
       "    <tr>\n",
       "      <th>49998</th>\n",
       "      <td>I'm going to have to disagree with the previou...</td>\n",
       "      <td>1</td>\n",
       "    </tr>\n",
       "    <tr>\n",
       "      <th>49999</th>\n",
       "      <td>No one expects the Star Trek movies to be high...</td>\n",
       "      <td>1</td>\n",
       "    </tr>\n",
       "  </tbody>\n",
       "</table>\n",
       "<p>50000 rows × 2 columns</p>\n",
       "</div>"
      ],
      "text/plain": [
       "                                                    text  label\n",
       "0      One of the other reviewers has mentioned that ...      0\n",
       "1      A wonderful little production. <br /><br />The...      0\n",
       "2      I thought this was a wonderful way to spend ti...      0\n",
       "3      Basically there's a family where a little boy ...      1\n",
       "4      Petter Mattei's \"Love in the Time of Money\" is...      0\n",
       "...                                                  ...    ...\n",
       "49995  I thought this movie did a down right good job...      0\n",
       "49996  Bad plot, bad dialogue, bad acting, idiotic di...      1\n",
       "49997  I am a Catholic taught in parochial elementary...      1\n",
       "49998  I'm going to have to disagree with the previou...      1\n",
       "49999  No one expects the Star Trek movies to be high...      1\n",
       "\n",
       "[50000 rows x 2 columns]"
      ]
     },
     "execution_count": 7,
     "metadata": {},
     "output_type": "execute_result"
    }
   ],
   "source": [
    "original_df_train"
   ]
  },
  {
   "cell_type": "code",
   "execution_count": 8,
   "id": "128e407e-ac4c-491e-8d55-383372c39698",
   "metadata": {},
   "outputs": [],
   "source": [
    "import re\n",
    "\n",
    "def clean_text(text):\n",
    "    text = re.sub(r\"http\\S+|www\\S+|https\\S+\", \"\", text)  # removing URL\n",
    "    text = re.sub(r\"[^A-Za-z0-9(),!?\\'\\`]\", \" \", text)  # cleaning special character\n",
    "    text = re.sub(r\"\\s{2,}\", \" \", text)  # remove extra space\n",
    "    return text.strip()"
   ]
  },
  {
   "cell_type": "code",
   "execution_count": 9,
   "id": "9cefeb7e-3157-44e8-a977-c2a2a9988515",
   "metadata": {},
   "outputs": [],
   "source": [
    "original_df_train['text'] = original_df_train['text'].apply(clean_text)\n"
   ]
  },
  {
   "cell_type": "code",
   "execution_count": 10,
   "id": "ed6e2498-fde1-434f-8d16-e54c87ec7840",
   "metadata": {},
   "outputs": [
    {
     "name": "stdout",
     "output_type": "stream",
     "text": [
      "text     0\n",
      "label    0\n",
      "dtype: int64\n",
      "              label\n",
      "count  50000.000000\n",
      "mean       0.500000\n",
      "std        0.500005\n",
      "min        0.000000\n",
      "25%        0.000000\n",
      "50%        0.500000\n",
      "75%        1.000000\n",
      "max        1.000000\n"
     ]
    }
   ],
   "source": [
    "print(original_df_train.isnull().sum())  # Checking for null value\n",
    "print(original_df_train.describe())"
   ]
  },
  {
   "cell_type": "code",
   "execution_count": 11,
   "id": "b091a7be-6514-4c56-b505-68fd5124be21",
   "metadata": {},
   "outputs": [
    {
     "data": {
      "text/plain": [
       "\"Phil the Alien is one of those quirky films where the humour is based around the oddness of everything rather than actual punchlines br br At first it was very odd and pretty funny but as the movie progressed I didn't find the jokes or oddness funny anymore br br Its a low budget film (thats never a problem in itself), there were some pretty interesting characters, but eventually I just lost interest br br I imagine this film would appeal to a stoner who is currently partaking br br For something similar but better try Brother from another planet\""
      ]
     },
     "execution_count": 11,
     "metadata": {},
     "output_type": "execute_result"
    }
   ],
   "source": [
    "original_df_train['text'].iloc[10]"
   ]
  },
  {
   "cell_type": "code",
   "execution_count": 12,
   "id": "31903d62-508e-49ca-a7f8-55bf273b2bd5",
   "metadata": {},
   "outputs": [],
   "source": [
    "from sklearn.model_selection import train_test_split\n",
    "\n",
    "train_texts, test_texts, train_labels, test_labels = train_test_split(original_df_train[\"text\"],\n",
    "                                                                      original_df_train[\"label\"],\n",
    "                                                                      test_size=0.2, random_state=42)\n",
    "\n",
    "\n",
    "val_texts, test_texts, val_labels, test_labels = train_test_split(test_texts, test_labels, test_size=0.5, random_state=42)\n",
    "\n",
    "\n",
    "train_df = pd.DataFrame({\"text\": train_texts, \"label\": train_labels})\n",
    "val_df = pd.DataFrame({\"text\": val_texts, \"label\": val_labels})\n",
    "test_df = pd.DataFrame({\"text\": test_texts, \"label\": test_labels})"
   ]
  },
  {
   "cell_type": "code",
   "execution_count": 13,
   "id": "1b42dfc4-4985-4683-8737-acce098252fc",
   "metadata": {},
   "outputs": [
    {
     "data": {
      "text/html": [
       "<div>\n",
       "<style scoped>\n",
       "    .dataframe tbody tr th:only-of-type {\n",
       "        vertical-align: middle;\n",
       "    }\n",
       "\n",
       "    .dataframe tbody tr th {\n",
       "        vertical-align: top;\n",
       "    }\n",
       "\n",
       "    .dataframe thead th {\n",
       "        text-align: right;\n",
       "    }\n",
       "</style>\n",
       "<table border=\"1\" class=\"dataframe\">\n",
       "  <thead>\n",
       "    <tr style=\"text-align: right;\">\n",
       "      <th></th>\n",
       "      <th>text</th>\n",
       "      <th>label</th>\n",
       "    </tr>\n",
       "  </thead>\n",
       "  <tbody>\n",
       "    <tr>\n",
       "      <th>47374</th>\n",
       "      <td>Hollywood has churned out yet another garbage ...</td>\n",
       "      <td>1</td>\n",
       "    </tr>\n",
       "    <tr>\n",
       "      <th>48216</th>\n",
       "      <td>A trooper is on the side of the road making su...</td>\n",
       "      <td>1</td>\n",
       "    </tr>\n",
       "    <tr>\n",
       "      <th>45929</th>\n",
       "      <td>If you like his show you might be a little dis...</td>\n",
       "      <td>0</td>\n",
       "    </tr>\n",
       "    <tr>\n",
       "      <th>48715</th>\n",
       "      <td>A squashy slapstick mess posing as a comedy El...</td>\n",
       "      <td>1</td>\n",
       "    </tr>\n",
       "    <tr>\n",
       "      <th>18849</th>\n",
       "      <td>Lucio Fulci was famous for his Italian splatte...</td>\n",
       "      <td>1</td>\n",
       "    </tr>\n",
       "    <tr>\n",
       "      <th>...</th>\n",
       "      <td>...</td>\n",
       "      <td>...</td>\n",
       "    </tr>\n",
       "    <tr>\n",
       "      <th>49939</th>\n",
       "      <td>Depending entirely on your own personal state ...</td>\n",
       "      <td>1</td>\n",
       "    </tr>\n",
       "    <tr>\n",
       "      <th>6420</th>\n",
       "      <td>Unless you're twelve, this movie really isn't ...</td>\n",
       "      <td>1</td>\n",
       "    </tr>\n",
       "    <tr>\n",
       "      <th>48421</th>\n",
       "      <td>I can't tell you all how much I love this movi...</td>\n",
       "      <td>0</td>\n",
       "    </tr>\n",
       "    <tr>\n",
       "      <th>26037</th>\n",
       "      <td>The Last Hunt is one of the few westerns ever ...</td>\n",
       "      <td>0</td>\n",
       "    </tr>\n",
       "    <tr>\n",
       "      <th>31247</th>\n",
       "      <td>i am rarely moved to make these kind of commen...</td>\n",
       "      <td>1</td>\n",
       "    </tr>\n",
       "  </tbody>\n",
       "</table>\n",
       "<p>5000 rows × 2 columns</p>\n",
       "</div>"
      ],
      "text/plain": [
       "                                                    text  label\n",
       "47374  Hollywood has churned out yet another garbage ...      1\n",
       "48216  A trooper is on the side of the road making su...      1\n",
       "45929  If you like his show you might be a little dis...      0\n",
       "48715  A squashy slapstick mess posing as a comedy El...      1\n",
       "18849  Lucio Fulci was famous for his Italian splatte...      1\n",
       "...                                                  ...    ...\n",
       "49939  Depending entirely on your own personal state ...      1\n",
       "6420   Unless you're twelve, this movie really isn't ...      1\n",
       "48421  I can't tell you all how much I love this movi...      0\n",
       "26037  The Last Hunt is one of the few westerns ever ...      0\n",
       "31247  i am rarely moved to make these kind of commen...      1\n",
       "\n",
       "[5000 rows x 2 columns]"
      ]
     },
     "execution_count": 13,
     "metadata": {},
     "output_type": "execute_result"
    }
   ],
   "source": [
    "val_df"
   ]
  },
  {
   "cell_type": "code",
   "execution_count": 14,
   "id": "d2c6601d-cc27-4932-a385-79dbbba3e644",
   "metadata": {},
   "outputs": [
    {
     "name": "stdout",
     "output_type": "stream",
     "text": [
      "Dataset({\n",
      "    features: ['text', 'label', '__index_level_0__'],\n",
      "    num_rows: 40000\n",
      "})\n"
     ]
    }
   ],
   "source": [
    "train_dataset = Dataset.from_pandas(train_df)\n",
    "test_dataset = Dataset.from_pandas(test_df)\n",
    "val_dataset = Dataset.from_pandas(val_df)\n",
    "print(train_dataset)"
   ]
  },
  {
   "cell_type": "markdown",
   "id": "34cebb05-ee96-4b6f-802c-0151880377d4",
   "metadata": {},
   "source": [
    "### Tokenization and Training"
   ]
  },
  {
   "cell_type": "code",
   "execution_count": 15,
   "id": "77ef5a63-35a8-4129-aa86-89581d1e530f",
   "metadata": {},
   "outputs": [],
   "source": [
    "tokenizer = AutoTokenizer.from_pretrained('distilbert-base-uncased')"
   ]
  },
  {
   "cell_type": "code",
   "execution_count": 16,
   "id": "18fd3182-d704-43c7-9d09-0364c031b5eb",
   "metadata": {},
   "outputs": [
    {
     "name": "stderr",
     "output_type": "stream",
     "text": [
      "Map: 100%|██████████| 40000/40000 [00:09<00:00, 4248.52 examples/s]\n",
      "Map: 100%|██████████| 5000/5000 [00:01<00:00, 4483.94 examples/s]\n",
      "Map: 100%|██████████| 5000/5000 [00:01<00:00, 4501.33 examples/s]"
     ]
    },
    {
     "name": "stdout",
     "output_type": "stream",
     "text": [
      "Dataset({\n",
      "    features: ['text', 'label', '__index_level_0__', 'input_ids', 'attention_mask'],\n",
      "    num_rows: 5000\n",
      "})\n"
     ]
    },
    {
     "name": "stderr",
     "output_type": "stream",
     "text": [
      "\n"
     ]
    }
   ],
   "source": [
    "# Tokenization function\n",
    "def tokenize_function(examples):\n",
    "    return tokenizer(examples['text'], padding='max_length', max_length=512, truncation=True,return_tensors=\"pt\")\n",
    "\n",
    "# Tokenizing datasets\n",
    "train_tokenized = train_dataset.map(tokenize_function, batched=True)\n",
    "test_tokenized = test_dataset.map(tokenize_function, batched=True)\n",
    "val_tokenized = val_dataset.map(tokenize_function, batched=True)\n",
    "# Ex: tokenized test format printing\n",
    "print(test_tokenized)"
   ]
  },
  {
   "cell_type": "code",
   "execution_count": 17,
   "id": "cd71c378-458a-493b-8fe4-f5e89988cc11",
   "metadata": {},
   "outputs": [
    {
     "name": "stdout",
     "output_type": "stream",
     "text": [
      "Value(dtype='int64', id=None)\n"
     ]
    }
   ],
   "source": [
    "train_tokenized.set_format(type='torch', columns=['input_ids', 'attention_mask', 'label'])\n",
    "test_tokenized.set_format(type='torch', columns=['input_ids', 'attention_mask', 'label'])\n",
    "val_tokenized.set_format(type='torch', columns=['input_ids', 'attention_mask', 'label'])\n",
    "# Ex: test tokenized with torch formatting\n",
    "print(train_tokenized.features['label'])"
   ]
  },
  {
   "cell_type": "markdown",
   "id": "4ff17695-f5e3-49a9-b6e7-606db3644d6b",
   "metadata": {},
   "source": [
    "#### Uploading distilbert base uncased model for training"
   ]
  },
  {
   "cell_type": "code",
   "execution_count": 18,
   "id": "d315e7c0-21c4-4ccd-afda-80dcf37c14ee",
   "metadata": {},
   "outputs": [
    {
     "name": "stderr",
     "output_type": "stream",
     "text": [
      "Some weights of DistilBertForSequenceClassification were not initialized from the model checkpoint at distilbert-base-uncased and are newly initialized: ['classifier.bias', 'classifier.weight', 'pre_classifier.bias', 'pre_classifier.weight']\n",
      "You should probably TRAIN this model on a down-stream task to be able to use it for predictions and inference.\n"
     ]
    }
   ],
   "source": [
    "\n",
    "#model = AutoModelForSequenceClassification.from_pretrained('bert-base-uncased',torch_dtype=torch.float16, attn_implementation=\"sdpa\" ,num_labels=2)\n",
    "\n",
    "#import torch\n",
    "\n",
    "model = AutoModelForSequenceClassification.from_pretrained(\n",
    "    \"distilbert-base-uncased\", \n",
    "    torch_dtype=torch.bfloat16,  # FP16 instead of FP32\n",
    "    attn_implementation=\"sdpa\",  # SDPA instead of \"eager\"\n",
    "    num_labels=2\n",
    ").to(\"cuda\")\n",
    "\n",
    "#model = torch.compile(model)"
   ]
  },
  {
   "cell_type": "code",
   "execution_count": null,
   "id": "d06b2920-ec85-46d9-8876-51e1010ca355",
   "metadata": {},
   "outputs": [],
   "source": [
    "import tensorflow as tf\n",
    "gpus = tf.config.list_physical_devices('GPU')\n",
    "for gpu in gpus: # so tf does not map all gpu space\n",
    "\ttf.config.experimental.set_memory_growth(gpu, True)"
   ]
  },
  {
   "cell_type": "code",
   "execution_count": null,
   "id": "6237ad8b-848d-43b6-b1b8-db936ecc1aaf",
   "metadata": {},
   "outputs": [],
   "source": [
    "from transformers import Trainer, TrainingArguments"
   ]
  },
  {
   "cell_type": "code",
   "execution_count": null,
   "id": "cfed6759-d860-4224-832b-c2654e99702f",
   "metadata": {},
   "outputs": [],
   "source": [
    "with torch.no_grad():\n",
    "    torch.cuda.empty_cache()"
   ]
  },
  {
   "cell_type": "code",
   "execution_count": null,
   "id": "cb57e9f2-c177-4728-b8f0-a553e0526ba0",
   "metadata": {},
   "outputs": [],
   "source": [
    "training_args = TrainingArguments(\n",
    "    output_dir=\"./results\",\n",
    "    evaluation_strategy=\"epoch\",  # Epoch evalution strategy instead of steps\n",
    "    #eval_steps=50,\n",
    "    learning_rate=2e-6,\n",
    "    per_device_train_batch_size=16, # 256,512 \n",
    "    per_device_eval_batch_size=16,\n",
    "    num_train_epochs=5,\n",
    "    #weight_decay=0.0001, # 0.01 # decreasing training and eval loss accuracy\n",
    "    report_to=\"none\",\n",
    "    bf16=True,\n",
    "    fp16=False,\n",
    "    logging_steps=200,\n",
    "    #gradient_accumulation_steps=4, # simulation of 64 x 4 batch size # \n",
    "    save_total_limit=1,\n",
    "    save_strategy=\"epoch\",\n",
    "    load_best_model_at_end=True,\n",
    "    metric_for_best_model=\"eval_loss\",\n",
    "    #fp16_opt_level=\"O2\",\n",
    ")\n",
    "\n",
    "# Creating of trainer object\n",
    "trainer = Trainer(\n",
    "    model=model,\n",
    "    args=training_args,\n",
    "    train_dataset=train_tokenized,\n",
    "    eval_dataset=val_tokenized,\n",
    "    tokenizer=tokenizer,\n",
    "    compute_metrics=compute_metrics,\n",
    ")\n",
    "\n",
    "# Model Training\n",
    "trainer.train()"
   ]
  },
  {
   "cell_type": "code",
   "execution_count": null,
   "id": "ae3f19be-855c-4690-8eab-43322ba8e7e6",
   "metadata": {},
   "outputs": [],
   "source": [
    "from sklearn.metrics import accuracy_score\n",
    "\n",
    "def compute_metrics(p):\n",
    "    preds = p.predictions.argmax(-1)\n",
    "    return {\"accuracy\": accuracy_score(p.label_ids, preds)}"
   ]
  },
  {
   "cell_type": "code",
   "execution_count": null,
   "id": "953af031-147f-49a6-8a7c-4dd414adfc7e",
   "metadata": {},
   "outputs": [],
   "source": [
    "metrics = trainer.evaluate()\n",
    "print(metrics)"
   ]
  },
  {
   "cell_type": "code",
   "execution_count": null,
   "id": "05d431c1-b122-43c5-8b7f-c5abc923fa40",
   "metadata": {},
   "outputs": [],
   "source": [
    "print(train_tokenized[0])"
   ]
  },
  {
   "cell_type": "code",
   "execution_count": 19,
   "id": "a799f1ee-2c77-450c-83f4-0279f0ea5910",
   "metadata": {},
   "outputs": [
    {
     "ename": "NameError",
     "evalue": "name 'trainer' is not defined",
     "output_type": "error",
     "traceback": [
      "\u001b[0;31m---------------------------------------------------------------------------\u001b[0m",
      "\u001b[0;31mNameError\u001b[0m                                 Traceback (most recent call last)",
      "Cell \u001b[0;32mIn[19], line 3\u001b[0m\n\u001b[1;32m      1\u001b[0m \u001b[38;5;66;03m#model.save_pretrained(\"./bert-finetuned-amazon-reviews\")\u001b[39;00m\n\u001b[1;32m      2\u001b[0m \u001b[38;5;66;03m#tokenizer.save_pretrained(\"./bert-finetuned-amazon-reviews\")\u001b[39;00m\n\u001b[0;32m----> 3\u001b[0m \u001b[43mtrainer\u001b[49m\u001b[38;5;241m.\u001b[39msave_model(\u001b[38;5;124m\"\u001b[39m\u001b[38;5;124m./bert-finetuned-imdb_v4\u001b[39m\u001b[38;5;124m\"\u001b[39m)\n\u001b[1;32m      4\u001b[0m tokenizer\u001b[38;5;241m.\u001b[39msave_pretrained(\u001b[38;5;124m\"\u001b[39m\u001b[38;5;124m./bert-finetuned-imdb_v4\u001b[39m\u001b[38;5;124m\"\u001b[39m)\n",
      "\u001b[0;31mNameError\u001b[0m: name 'trainer' is not defined"
     ]
    }
   ],
   "source": [
    "#model.save_pretrained(\"./bert-finetuned-amazon-reviews\")\n",
    "#tokenizer.save_pretrained(\"./bert-finetuned-amazon-reviews\")\n",
    "trainer.save_model(\"./bert-finetuned-imdb_v4\")\n",
    "tokenizer.save_pretrained(\"./bert-finetuned-imdb_v4\")"
   ]
  },
  {
   "cell_type": "code",
   "execution_count": 20,
   "id": "86ca2c70-66ff-4473-b61c-1d9f54ee662b",
   "metadata": {},
   "outputs": [],
   "source": [
    "\n",
    "model_path = \"./bert-finetuned-imdb_v4\"\n",
    "\n",
    "# Upload Model\n",
    "model = AutoModelForSequenceClassification.from_pretrained(model_path).to(\"cuda\")\n",
    "\n",
    "# Upload Tokenizer\n",
    "tokenizer = AutoTokenizer.from_pretrained(model_path)\n",
    "\n"
   ]
  },
  {
   "cell_type": "markdown",
   "id": "c195d0f1-3649-4f24-a680-b8db3c3e3cee",
   "metadata": {},
   "source": [
    "### Calculation of Metrics"
   ]
  },
  {
   "cell_type": "code",
   "execution_count": 21,
   "id": "a9cd6f1b-425e-49d5-97a3-96234769c237",
   "metadata": {},
   "outputs": [
    {
     "name": "stderr",
     "output_type": "stream",
     "text": [
      "Prediction Progress: 100%|██████████| 40/40 [00:30<00:00,  1.30batch/s]\n"
     ]
    }
   ],
   "source": [
    "from torch.utils.data import DataLoader\n",
    "from datasets import Dataset\n",
    "import numpy as np\n",
    "from tqdm import tqdm\n",
    "#test_tokenized = test_tokenized.rename_columns({\"label\": \"labels\"})\n",
    "testing_dataloader = DataLoader(test_tokenized, batch_size=128, shuffle=False)\n",
    "\n",
    "model.eval()\n",
    "preds = []\n",
    "labels = []\n",
    "\n",
    "with torch.no_grad():\n",
    "    for batch in tqdm(testing_dataloader,desc=\"Prediction Progress\",unit= \"batch\"):\n",
    "        inputs = {k:v.to(\"cuda\") for k,v in batch.items() if k != \"label\"}\n",
    "        outputs = model(**inputs)\n",
    "        logits = outputs.logits\n",
    "        predictions = torch.argmax(logits,dim=-1).cpu().numpy()\n",
    "\n",
    "        preds.extend(predictions)\n",
    "        labels.extend(batch[\"label\"].cpu().numpy())\n",
    "\n",
    "preds = np.array(preds)\n",
    "labels = np.array(labels)"
   ]
  },
  {
   "cell_type": "code",
   "execution_count": 23,
   "id": "6ca19beb-4c1a-4578-b0b8-cb11e9f189d9",
   "metadata": {},
   "outputs": [
    {
     "name": "stdout",
     "output_type": "stream",
     "text": [
      "Accuracy: 0.9332\n",
      "Precision: 0.9415\n",
      "Recall: 0.9216\n",
      "F1 Score: 0.9314\n"
     ]
    },
    {
     "data": {
      "image/png": "[encoded data removed]",
      "text/plain": [
       "<Figure size 600x500 with 2 Axes>"
      ]
     },
     "metadata": {},
     "output_type": "display_data"
    },
    {
     "data": {
      "image/png": "[encoded data removed]",
      "text/plain": [
       "<Figure size 800x600 with 1 Axes>"
      ]
     },
     "metadata": {},
     "output_type": "display_data"
    }
   ],
   "source": [
    "from sklearn.metrics import accuracy_score, precision_recall_fscore_support, confusion_matrix\n",
    "import seaborn as sns\n",
    "# Accuracy \n",
    "accuracy = accuracy_score(labels, preds)\n",
    "\n",
    "# Precision, Recall, F1-score(average=\"binary\" for 2 class )\n",
    "precision, recall, f1, _ = precision_recall_fscore_support(labels, preds, average=\"binary\")\n",
    "\n",
    "# Confusion Matrix \n",
    "conf_matrix = confusion_matrix(labels, preds)\n",
    "\n",
    "# Results\n",
    "print(f\"Accuracy: {accuracy:.4f}\")\n",
    "print(f\"Precision: {precision:.4f}\")\n",
    "print(f\"Recall: {recall:.4f}\")\n",
    "print(f\"F1 Score: {f1:.4f}\")\n",
    "\n",
    "# 📌 **Confusion Matrix Visualization**\n",
    "plt.figure(figsize=(6,5))\n",
    "sns.heatmap(conf_matrix, annot=True, fmt='d', cmap=\"Blues\", xticklabels=[\"Negative\", \"Positive\"], yticklabels=[\"Negative\", \"Positive\"])\n",
    "plt.xlabel(\"Predicted Label\")\n",
    "plt.ylabel(\"True Label\")\n",
    "plt.title(\"Confusion Matrix\")\n",
    "plt.show()\n",
    "\n",
    "# 📌 **Precision - Recall - F1 Score Bar Chart**\n",
    "#metrics = {\"Accuracy\": accuracy, \"Precision\": precision, \"Recall\": recall, \"F1 Score\": f1}\n",
    "metrics = {\n",
    "    \"Accuracy\" : accuracy,\n",
    "    \"Precision\": precision,\n",
    "    \"Recall\"   : recall,\n",
    "    \"F1-Score\" : f1\n",
    "}\n",
    "\n",
    "# Dinamik y-ekseni aralığı: en düşük değerin hemen altından en yüksek değerin biraz üstüne\n",
    "values = list(metrics.values())\n",
    "min_val, max_val = min(values), max(values)\n",
    "margin = 0.01  # %5 marjin\n",
    "ymin = max(min_val - margin, 0)\n",
    "ymax = min(max_val + margin, 1.0)\n",
    "\n",
    "# Renk paleti (4 farklı renk)\n",
    "colors = [\"#1f77b4\", \"#ff7f0e\", \"#2ca02c\", \"#d62728\"]\n",
    "\n",
    "plt.figure(figsize=(8,6))\n",
    "bars = plt.bar(metrics.keys(), metrics.values(), color=colors)\n",
    "plt.ylim(ymin, ymax)\n",
    "plt.ylabel(\"Score\")\n",
    "plt.title(\"Classification Metrics\")\n",
    "\n",
    "# Her bar'ın tepesine değer ekleyelim\n",
    "for bar in bars:\n",
    "    height = bar.get_height()\n",
    "    plt.text(\n",
    "        bar.get_x() + bar.get_width()/2,\n",
    "        height + 0.001,\n",
    "        f\"{height:.2f}\",\n",
    "        ha=\"center\",\n",
    "        va=\"bottom\"\n",
    "    )\n",
    "plt.show()\n"
   ]
  },
  {
   "cell_type": "markdown",
   "id": "9f0ea986-94e8-408a-8c43-78e43a9d924c",
   "metadata": {},
   "source": [
    "### Manuel Testing "
   ]
  },
  {
   "cell_type": "code",
   "execution_count": 24,
   "id": "c93ffe5d-fe2b-4234-96fb-6c007a2fc0dc",
   "metadata": {},
   "outputs": [
    {
     "name": "stdout",
     "output_type": "stream",
     "text": [
      "Sentence: 'I absolutely loved this movie! The performances were brilliant and the story kept me hooked from start to finish.' => Sentiment: Positive\n"
     ]
    }
   ],
   "source": [
    "test_sentence = [\"I absolutely loved this movie! The performances were brilliant and the story kept me hooked from start to finish.\"]\n",
    "inputs = tokenizer(test_sentence, padding=True, truncation=True, return_tensors=\"pt\", max_length=512).to(\"cuda\")\n",
    "with torch.no_grad():\n",
    "    output_of_manuel = model(**inputs)\n",
    "\n",
    "predictions_of_manuel = torch.argmax(output_of_manuel.logits,dim=-1)\n",
    "\n",
    "for sentence,prediction_of_manuel in zip(test_sentence,predictions_of_manuel):\n",
    "    sentiment = \"Negative\" if prediction_of_manuel.item() == 1 else \"Positive\"\n",
    "    print(f\"Sentence: '{sentence}' => Sentiment: {sentiment}\")"
   ]
  },
  {
   "cell_type": "code",
   "execution_count": 25,
   "id": "9a48186a-33a2-42e6-9f31-d6ace4547061",
   "metadata": {},
   "outputs": [
    {
     "name": "stdout",
     "output_type": "stream",
     "text": [
      "tensor(0, device='cuda:0')\n"
     ]
    }
   ],
   "source": [
    "print(prediction_of_manuel)"
   ]
  },
  {
   "cell_type": "code",
   "execution_count": null,
   "id": "b0d9356a-1205-4f2a-9721-194902c6aab1",
   "metadata": {},
   "outputs": [],
   "source": [
    "# Cross data validation amazon to imdb model , otherwise.\n",
    "# bir de hatalı yapanlarda bir bias var mı hata ayıklama,\n",
    "# görselleştirmeyi düzenlemek gerekiyo, detaylı gözüksün değerler.\n",
    "# "
   ]
  },
  {
   "cell_type": "code",
   "execution_count": null,
   "id": "e8330ab7-9e64-4cf2-970f-bf56d7253fc4",
   "metadata": {},
   "outputs": [],
   "source": []
  }
 ],
 "metadata": {
  "kernelspec": {
   "display_name": "ilgin",
   "language": "python",
   "name": "ilgin"
  },
  "language_info": {
   "codemirror_mode": {
    "name": "ipython",
    "version": 3
   },
   "file_extension": ".py",
   "mimetype": "text/x-python",
   "name": "python",
   "nbconvert_exporter": "python",
   "pygments_lexer": "ipython3",
   "version": "3.10.16"
  }
 },
 "nbformat": 4,
 "nbformat_minor": 5
}
