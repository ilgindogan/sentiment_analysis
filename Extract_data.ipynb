{
 "cells": [
  {
   "cell_type": "code",
   "execution_count": 1,
   "id": "bb3e634a-b614-4f32-9c51-81377c72849a",
   "metadata": {},
   "outputs": [],
   "source": [
    "## extracting data"
   ]
  },
  {
   "cell_type": "code",
   "execution_count": 2,
   "id": "3bf2650c-ca47-4035-9cc4-5bdca1bf5f3b",
   "metadata": {},
   "outputs": [
    {
     "name": "stdout",
     "output_type": "stream",
     "text": [
      "Archive:  ./amazon-reviews.zip\n",
      "  inflating: amazon_review_polarity_csv.tgz  \n",
      "  inflating: test.csv                \n",
      "  inflating: train.csv               \n"
     ]
    }
   ],
   "source": [
    "!unzip \"./amazon-reviews.zip\""
   ]
  },
  {
   "cell_type": "code",
   "execution_count": 1,
   "id": "932191c6-e900-4473-af16-024b7429a48d",
   "metadata": {},
   "outputs": [
    {
     "name": "stdout",
     "output_type": "stream",
     "text": [
      "Archive:  imdb-dataset-of-50k-movie-reviews.zip\n",
      "  inflating: IMDB Dataset.csv        \n"
     ]
    }
   ],
   "source": [
    "!unzip \"imdb-dataset-of-50k-movie-reviews.zip\""
   ]
  },
  {
   "cell_type": "code",
   "execution_count": null,
   "id": "f2313915-e51c-4650-865c-5a167b83641d",
   "metadata": {},
   "outputs": [],
   "source": []
  }
 ],
 "metadata": {
  "kernelspec": {
   "display_name": "ilgin",
   "language": "python",
   "name": "ilgin"
  },
  "language_info": {
   "codemirror_mode": {
    "name": "ipython",
    "version": 3
   },
   "file_extension": ".py",
   "mimetype": "text/x-python",
   "name": "python",
   "nbconvert_exporter": "python",
   "pygments_lexer": "ipython3",
   "version": "3.10.16"
  }
 },
 "nbformat": 4,
 "nbformat_minor": 5
}
